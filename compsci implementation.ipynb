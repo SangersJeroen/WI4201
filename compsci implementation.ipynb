{
 "cells": [
  {
   "cell_type": "code",
   "execution_count": 12,
   "metadata": {},
   "outputs": [],
   "source": [
    "import numpy as np\n",
    "import matplotlib.pyplot as plot"
   ]
  },
  {
   "cell_type": "code",
   "execution_count": 13,
   "metadata": {},
   "outputs": [],
   "source": [
    "#construct Ah\n",
    "p=2\n",
    "n=(2**p)\n",
    "h=1/(2**p);\n",
    "Ah=np.zeros([n+1,n+1])\n",
    "for k in range(1,n):\n",
    "        Ah[k][k] = 2\n",
    "for k in range(1,n-1):\n",
    "        Ah[k][k+1] = -1\n",
    "        Ah[k+1][k] = -1\n",
    "Ah[0][0]=h**2\n",
    "Ah[n][n]=h**2\n",
    "Ah=Ah/(h**2)       \n",
    "#b=np.array([1,*np.zeros([n-1])])*h**2        \n",
    "#Ah=np.vstack((b,Ah))\n",
    "#Ah=np.vstack((Ah,np.flip(b)))\n",
    "             \n",
    "\n",
    "Ih=np.identity(n+1)\n",
    "x=np.linspace(0,1,n+1)\n",
    "y=np.linspace(0,1,n+1)\n",
    "z=np.linspace(0,1,n+1)\n",
    "\n",
    "xv, yv, zv = np.meshgrid(x, y, z)\n",
    "#f2=(x^2+y^2)sin(xy)\n",
    "f2=((xv**2+yv**2)*np.sin(xv*yv))[:,:,1]\n",
    "ones = np.ones(f2.shape)\n",
    "ones[1:-1,1:-1] = f2[1:-1,1:-1]\n",
    "f2 = ones\n",
    "f3=((xv*yv)**2+(xv*zv)**2+(yv*zv)**2)*np.sin(xv*yv*zv)\n",
    "\n",
    "f2= f2[::-1,:].flatten()\n",
    "f3= f3[::-1,::-1,:].flatten()\n",
    "\n",
    "test3=np.array([])"
   ]
  },
  {
   "cell_type": "code",
   "execution_count": 14,
   "metadata": {},
   "outputs": [
    {
     "data": {
      "text/plain": [
       "array([[  1.,   0.,   0.,   0.,   0.],\n",
       "       [  0.,  32., -16.,   0.,   0.],\n",
       "       [  0., -16.,  32., -16.,   0.],\n",
       "       [  0.,   0., -16.,  32.,   0.],\n",
       "       [  0.,   0.,   0.,   0.,   1.]])"
      ]
     },
     "execution_count": 14,
     "metadata": {},
     "output_type": "execute_result"
    }
   ],
   "source": [
    "\n",
    "Ah2=np.kron(Ih,Ah)+np.kron(Ah,Ih)\n",
    "Ah3=np.kron(Ih,Ah2)+np.kron(Ah2,Ih)\n",
    "Ah"
   ]
  },
  {
   "cell_type": "code",
   "execution_count": 15,
   "metadata": {},
   "outputs": [
    {
     "data": {
      "text/plain": [
       "array([[  2.,   0.,   0.,   0.,   0.,   0.,   0.,   0.,   0.,   0.,   0.,\n",
       "          0.,   0.,   0.,   0.,   0.,   0.,   0.,   0.,   0.,   0.,   0.,\n",
       "          0.,   0.,   0.],\n",
       "       [  0.,  33., -16.,   0.,   0.,   0.,   0.,   0.,   0.,   0.,   0.,\n",
       "          0.,   0.,   0.,   0.,   0.,   0.,   0.,   0.,   0.,   0.,   0.,\n",
       "          0.,   0.,   0.],\n",
       "       [  0., -16.,  33., -16.,   0.,   0.,   0.,   0.,   0.,   0.,   0.,\n",
       "          0.,   0.,   0.,   0.,   0.,   0.,   0.,   0.,   0.,   0.,   0.,\n",
       "          0.,   0.,   0.],\n",
       "       [  0.,   0., -16.,  33.,   0.,   0.,   0.,   0.,   0.,   0.,   0.,\n",
       "          0.,   0.,   0.,   0.,   0.,   0.,   0.,   0.,   0.,   0.,   0.,\n",
       "          0.,   0.,   0.],\n",
       "       [  0.,   0.,   0.,   0.,   2.,   0.,   0.,   0.,   0.,   0.,   0.,\n",
       "          0.,   0.,   0.,   0.,   0.,   0.,   0.,   0.,   0.,   0.,   0.,\n",
       "          0.,   0.,   0.],\n",
       "       [  0.,   0.,   0.,   0.,   0.,  33.,   0.,   0.,   0.,   0., -16.,\n",
       "          0.,   0.,   0.,   0.,   0.,   0.,   0.,   0.,   0.,   0.,   0.,\n",
       "          0.,   0.,   0.],\n",
       "       [  0.,   0.,   0.,   0.,   0.,   0.,  64., -16.,   0.,   0.,   0.,\n",
       "        -16.,  -0.,   0.,   0.,   0.,   0.,   0.,   0.,   0.,   0.,   0.,\n",
       "          0.,   0.,   0.],\n",
       "       [  0.,   0.,   0.,   0.,   0.,   0., -16.,  64., -16.,   0.,   0.,\n",
       "         -0., -16.,  -0.,   0.,   0.,   0.,   0.,   0.,   0.,   0.,   0.,\n",
       "          0.,   0.,   0.],\n",
       "       [  0.,   0.,   0.,   0.,   0.,   0.,   0., -16.,  64.,   0.,   0.,\n",
       "          0.,  -0., -16.,   0.,   0.,   0.,   0.,   0.,   0.,   0.,   0.,\n",
       "          0.,   0.,   0.],\n",
       "       [  0.,   0.,   0.,   0.,   0.,   0.,   0.,   0.,   0.,  33.,   0.,\n",
       "          0.,   0.,   0., -16.,   0.,   0.,   0.,   0.,   0.,   0.,   0.,\n",
       "          0.,   0.,   0.],\n",
       "       [  0.,   0.,   0.,   0.,   0., -16.,   0.,   0.,   0.,   0.,  33.,\n",
       "          0.,   0.,   0.,   0., -16.,   0.,   0.,   0.,   0.,   0.,   0.,\n",
       "          0.,   0.,   0.],\n",
       "       [  0.,   0.,   0.,   0.,   0.,   0., -16.,  -0.,   0.,   0.,   0.,\n",
       "         64., -16.,   0.,   0.,   0., -16.,  -0.,   0.,   0.,   0.,   0.,\n",
       "          0.,   0.,   0.],\n",
       "       [  0.,   0.,   0.,   0.,   0.,   0.,  -0., -16.,  -0.,   0.,   0.,\n",
       "        -16.,  64., -16.,   0.,   0.,  -0., -16.,  -0.,   0.,   0.,   0.,\n",
       "          0.,   0.,   0.],\n",
       "       [  0.,   0.,   0.,   0.,   0.,   0.,   0.,  -0., -16.,   0.,   0.,\n",
       "          0., -16.,  64.,   0.,   0.,   0.,  -0., -16.,   0.,   0.,   0.,\n",
       "          0.,   0.,   0.],\n",
       "       [  0.,   0.,   0.,   0.,   0.,   0.,   0.,   0.,   0., -16.,   0.,\n",
       "          0.,   0.,   0.,  33.,   0.,   0.,   0.,   0., -16.,   0.,   0.,\n",
       "          0.,   0.,   0.],\n",
       "       [  0.,   0.,   0.,   0.,   0.,   0.,   0.,   0.,   0.,   0., -16.,\n",
       "          0.,   0.,   0.,   0.,  33.,   0.,   0.,   0.,   0.,   0.,   0.,\n",
       "          0.,   0.,   0.],\n",
       "       [  0.,   0.,   0.,   0.,   0.,   0.,   0.,   0.,   0.,   0.,   0.,\n",
       "        -16.,  -0.,   0.,   0.,   0.,  64., -16.,   0.,   0.,   0.,   0.,\n",
       "          0.,   0.,   0.],\n",
       "       [  0.,   0.,   0.,   0.,   0.,   0.,   0.,   0.,   0.,   0.,   0.,\n",
       "         -0., -16.,  -0.,   0.,   0., -16.,  64., -16.,   0.,   0.,   0.,\n",
       "          0.,   0.,   0.],\n",
       "       [  0.,   0.,   0.,   0.,   0.,   0.,   0.,   0.,   0.,   0.,   0.,\n",
       "          0.,  -0., -16.,   0.,   0.,   0., -16.,  64.,   0.,   0.,   0.,\n",
       "          0.,   0.,   0.],\n",
       "       [  0.,   0.,   0.,   0.,   0.,   0.,   0.,   0.,   0.,   0.,   0.,\n",
       "          0.,   0.,   0., -16.,   0.,   0.,   0.,   0.,  33.,   0.,   0.,\n",
       "          0.,   0.,   0.],\n",
       "       [  0.,   0.,   0.,   0.,   0.,   0.,   0.,   0.,   0.,   0.,   0.,\n",
       "          0.,   0.,   0.,   0.,   0.,   0.,   0.,   0.,   0.,   2.,   0.,\n",
       "          0.,   0.,   0.],\n",
       "       [  0.,   0.,   0.,   0.,   0.,   0.,   0.,   0.,   0.,   0.,   0.,\n",
       "          0.,   0.,   0.,   0.,   0.,   0.,   0.,   0.,   0.,   0.,  33.,\n",
       "        -16.,   0.,   0.],\n",
       "       [  0.,   0.,   0.,   0.,   0.,   0.,   0.,   0.,   0.,   0.,   0.,\n",
       "          0.,   0.,   0.,   0.,   0.,   0.,   0.,   0.,   0.,   0., -16.,\n",
       "         33., -16.,   0.],\n",
       "       [  0.,   0.,   0.,   0.,   0.,   0.,   0.,   0.,   0.,   0.,   0.,\n",
       "          0.,   0.,   0.,   0.,   0.,   0.,   0.,   0.,   0.,   0.,   0.,\n",
       "        -16.,  33.,   0.],\n",
       "       [  0.,   0.,   0.,   0.,   0.,   0.,   0.,   0.,   0.,   0.,   0.,\n",
       "          0.,   0.,   0.,   0.,   0.,   0.,   0.,   0.,   0.,   0.,   0.,\n",
       "          0.,   0.,   2.]])"
      ]
     },
     "execution_count": 15,
     "metadata": {},
     "output_type": "execute_result"
    },
    {
     "data": {
      "image/png": "[encoded data removed]",
      "text/plain": [
       "<Figure size 432x288 with 2 Axes>"
      ]
     },
     "metadata": {
      "needs_background": "light"
     },
     "output_type": "display_data"
    }
   ],
   "source": [
    "plot.imshow(Ah2[0:10*n,0:10*n])\n",
    "plot.colorbar()\n",
    "Ah2"
   ]
  },
  {
   "cell_type": "code",
   "execution_count": 16,
   "metadata": {},
   "outputs": [],
   "source": [
    "#computing the cholesky factor\n",
    "#C=np.zeros([(n+1)**2,(n+1)**2])\n",
    "#for k in range ((n+1)^2):\n",
    "#    C[k,k] = np.sqrt(Ah2[k,k]-np.sum(C[k,:]))\n",
    "#    for i in range(k + 1):\n",
    "#        C[i,k] = (1/C[k,k])*(Ah2[i, k]-np.sum(C[i,:]*C[k,:]))\n",
    "        \n",
    "C=np.linalg.cholesky(Ah2)"
   ]
  },
  {
   "cell_type": "code",
   "execution_count": 17,
   "metadata": {},
   "outputs": [],
   "source": [
    "L=C\n",
    "U=C.T\n",
    "\n",
    "y=np.linalg.solve(U,f2)\n",
    "u=np.linalg.solve(L,y)"
   ]
  },
  {
   "cell_type": "code",
   "execution_count": 18,
   "metadata": {},
   "outputs": [
    {
     "data": {
      "text/plain": [
       "(25,)"
      ]
     },
     "execution_count": 18,
     "metadata": {},
     "output_type": "execute_result"
    }
   ],
   "source": [
    "np.shape(L)\n",
    "np.shape(f2)"
   ]
  },
  {
   "cell_type": "code",
   "execution_count": 19,
   "metadata": {},
   "outputs": [
    {
     "data": {
      "text/plain": [
       "<matplotlib.colorbar.Colorbar at 0x276499503d0>"
      ]
     },
     "execution_count": 19,
     "metadata": {},
     "output_type": "execute_result"
    },
    {
     "data": {
      "image/png": "[encoded data removed]",
      "text/plain": [
       "<Figure size 432x288 with 2 Axes>"
      ]
     },
     "metadata": {
      "needs_background": "light"
     },
     "output_type": "display_data"
    }
   ],
   "source": [
    "u=u.reshape(n+1,n+1)[::-1,:]\n",
    "np.shape(u)\n",
    "plot.imshow(u,origin='lower')\n",
    "plot.colorbar()"
   ]
  },
  {
   "cell_type": "code",
   "execution_count": 20,
   "metadata": {},
   "outputs": [
    {
     "data": {
      "text/plain": [
       "array([[0.5       , 0.05829166, 0.0983185 , 0.10923654, 0.5       ],\n",
       "       [0.10923654, 0.00289296, 0.00660781, 0.00843385, 0.10923654],\n",
       "       [0.0983185 , 0.00429968, 0.01010849, 0.01367007, 0.0983185 ],\n",
       "       [0.05829166, 0.00463065, 0.01068909, 0.01486143, 0.05829166],\n",
       "       [0.5       , 0.05829166, 0.0983185 , 0.10923654, 0.5       ]])"
      ]
     },
     "execution_count": 20,
     "metadata": {},
     "output_type": "execute_result"
    }
   ],
   "source": [
    "u"
   ]
  },
  {
   "cell_type": "code",
   "execution_count": 21,
   "metadata": {},
   "outputs": [
    {
     "data": {
      "text/plain": [
       "array([[0.        , 0.        , 0.        , 0.        , 0.        ],\n",
       "       [0.        , 0.06245932, 0.12467473, 0.1864033 , 0.24740396],\n",
       "       [0.        , 0.12467473, 0.24740396, 0.36627253, 0.47942554],\n",
       "       [0.        , 0.1864033 , 0.36627253, 0.53330267, 0.68163876],\n",
       "       [0.        , 0.24740396, 0.47942554, 0.68163876, 0.84147098]])"
      ]
     },
     "execution_count": 21,
     "metadata": {},
     "output_type": "execute_result"
    },
    {
     "data": {
      "image/png": "[encoded data removed]",
      "text/plain": [
       "<Figure size 432x288 with 2 Axes>"
      ]
     },
     "metadata": {
      "needs_background": "light"
     },
     "output_type": "display_data"
    }
   ],
   "source": [
    "uexact=(np.sin(xv*yv))[:,:,1]\n",
    "np.shape(uexact)\n",
    "plot.imshow(uexact,origin='lower')\n",
    "plot.colorbar()\n",
    "uexact\n"
   ]
  },
  {
   "cell_type": "code",
   "execution_count": 22,
   "metadata": {},
   "outputs": [
    {
     "data": {
      "text/plain": [
       "array([[0.5       , 0.05829166, 0.0983185 , 0.10923654, 0.5       ],\n",
       "       [0.10923654, 0.05956635, 0.11806692, 0.17796944, 0.13816742],\n",
       "       [0.0983185 , 0.12037506, 0.23729547, 0.35260246, 0.38110704],\n",
       "       [0.05829166, 0.18177265, 0.35558344, 0.51844124, 0.6233471 ],\n",
       "       [0.5       , 0.1891123 , 0.38110704, 0.57240222, 0.34147098]])"
      ]
     },
     "execution_count": 22,
     "metadata": {},
     "output_type": "execute_result"
    }
   ],
   "source": [
    "error=np.abs(u-uexact)\n",
    "error"
   ]
  },
  {
   "cell_type": "code",
   "execution_count": null,
   "metadata": {},
   "outputs": [],
   "source": []
  },
  {
   "cell_type": "code",
   "execution_count": null,
   "metadata": {},
   "outputs": [],
   "source": []
  },
  {
   "cell_type": "code",
   "execution_count": null,
   "metadata": {},
   "outputs": [],
   "source": []
  }
 ],
 "metadata": {
  "kernelspec": {
   "display_name": "Python 3",
   "language": "python",
   "name": "python3"
  },
  "language_info": {
   "codemirror_mode": {
    "name": "ipython",
    "version": 3
   },
   "file_extension": ".py",
   "mimetype": "text/x-python",
   "name": "python",
   "nbconvert_exporter": "python",
   "pygments_lexer": "ipython3",
   "version": "3.9.0"
  }
 },
 "nbformat": 4,
 "nbformat_minor": 2
}
