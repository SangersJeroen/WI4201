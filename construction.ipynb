{
 "cells": [
  {
   "cell_type": "code",
   "execution_count": 1,
   "metadata": {},
   "outputs": [],
   "source": [
    "import numpy as np\n",
    "import matplotlib.pyplot as plt\n"
   ]
  },
  {
   "cell_type": "code",
   "execution_count": 2,
   "metadata": {},
   "outputs": [],
   "source": [
    "#Defining the constants\n",
    "P = 6\n",
    "N = 2**P\n",
    "U0 = 0.1\n",
    "h = 1/N"
   ]
  },
  {
   "cell_type": "code",
   "execution_count": 3,
   "metadata": {},
   "outputs": [],
   "source": [
    "#Construction of \\hat{T}_h\n",
    "hat_Th = np.zeros((N+1,N+1), dtype=np.float32)\n",
    "hat_Th[0,0] = h**2\n",
    "hat_Th[-1,-1] = h**2\n",
    "Th = 4*np.eye(N-1)-np.eye(N-1, k=-1)-np.eye(N-1, k=1)\n",
    "\n",
    "hat_Th[1:-1,1:-1] = Th\n",
    "\n",
    "hatI = np.eye(N+1, dtype=np.int8)\n",
    "hatI[0,0] = 0\n",
    "hatI[-1,-1]=0"
   ]
  },
  {
   "cell_type": "code",
   "execution_count": 4,
   "metadata": {},
   "outputs": [],
   "source": [
    "#Ah = np.zeros((N+1)**2) #Initialise array of zeroes to fill\n",
    "\"\"\"\n",
    "If we make this complexer we can tactically use different array-types to make this more memory efficient\n",
    "\"\"\"\n",
    "\n",
    "main_diag = np.eye((N+1), k=0, dtype=np.int8)\n",
    "main_diag[0,0], main_diag[-1,-1] = 0, 0\n",
    "\n",
    "Ah_ = np.kron(main_diag, hat_Th)\n",
    "np.save(\"Ah_\"+str(N+1),Ah_)\n",
    "main_diag = None\n",
    "Ah_ = None\n",
    "\n",
    "off_diag = np.eye((N+1), k=1) + np.eye((N+1), k=-1, dtype=np.int8)\n",
    "off_diag[0,1], off_diag[1,0], off_diag[-1,-2], off_diag[-2,-1] = 0, 0, 0, 0\n",
    "\n",
    "tmp = - np.kron(off_diag, hatI)\n",
    "off_diag = None\n",
    "Ah_ = np.load(\"Ah_\"+str(N+1)+\".npy\")\n",
    "Ah_ += tmp\n",
    "\n",
    "tmp = None\n",
    "\n",
    "Ah_[0:N+1,0:N+1], Ah_[-(N+1):,-(N+1):] = h**2 * np.eye(N+1), h**2 * np.eye(N+1)\n",
    "\n",
    "Ah = Ah_/(h**2)\n",
    "Ah_ = None"
   ]
  },
  {
   "cell_type": "code",
   "execution_count": 5,
   "metadata": {},
   "outputs": [
    {
     "data": {
      "text/plain": [
       "<matplotlib.image.AxesImage at 0x1bd1f46f640>"
      ]
     },
     "execution_count": 5,
     "metadata": {},
     "output_type": "execute_result"
    },
    {
     "data": {
      "image/png": "[encoded data removed]",
      "text/plain": [
       "<Figure size 432x288 with 1 Axes>"
      ]
     },
     "metadata": {
      "needs_background": "light"
     },
     "output_type": "display_data"
    }
   ],
   "source": [
    "plt.imshow(Ah)"
   ]
  },
  {
   "cell_type": "code",
   "execution_count": 6,
   "metadata": {},
   "outputs": [],
   "source": [
    "#Creating the forcing function\n",
    "x, y = np.linspace(0,1,N+1), np.linspace(0,1,N+1)\n",
    "Y, X = np.meshgrid(x, y)\n",
    "\n",
    "arrayF_i = (X**2 +Y**2)*np.sin(X*Y) #This array has the wrong ordering with (0,0) top left\n"
   ]
  },
  {
   "cell_type": "code",
   "execution_count": 7,
   "metadata": {},
   "outputs": [
    {
     "data": {
      "text/plain": [
       "<matplotlib.image.AxesImage at 0x1bd1f5790d0>"
      ]
     },
     "execution_count": 7,
     "metadata": {},
     "output_type": "execute_result"
    },
    {
     "data": {
      "image/png": "[encoded data removed]",
      "text/plain": [
       "<Figure size 432x288 with 1 Axes>"
      ]
     },
     "metadata": {
      "needs_background": "light"
     },
     "output_type": "display_data"
    }
   ],
   "source": [
    "plt.imshow(arrayF_i, origin='lower')"
   ]
  },
  {
   "cell_type": "code",
   "execution_count": 8,
   "metadata": {},
   "outputs": [],
   "source": [
    "arrayF_b = U0 * np.ones(arrayF_i.shape)\n"
   ]
  },
  {
   "cell_type": "code",
   "execution_count": 9,
   "metadata": {},
   "outputs": [],
   "source": [
    "arrayF_b[1:-1,1:-1] = arrayF_i[1:-1,1:-1]\n"
   ]
  },
  {
   "cell_type": "code",
   "execution_count": 10,
   "metadata": {},
   "outputs": [],
   "source": [
    "vecF = arrayF_b.flatten()\n"
   ]
  },
  {
   "cell_type": "code",
   "execution_count": 11,
   "metadata": {},
   "outputs": [
    {
     "data": {
      "text/plain": [
       "<matplotlib.image.AxesImage at 0x1bd1f5e0f40>"
      ]
     },
     "execution_count": 11,
     "metadata": {},
     "output_type": "execute_result"
    },
    {
     "data": {
      "image/png": "[encoded data removed]",
      "text/plain": [
       "<Figure size 432x288 with 1 Axes>"
      ]
     },
     "metadata": {
      "needs_background": "light"
     },
     "output_type": "display_data"
    }
   ],
   "source": [
    "plt.imshow(arrayF_b, origin='lower')\n"
   ]
  },
  {
   "cell_type": "code",
   "execution_count": 12,
   "metadata": {},
   "outputs": [],
   "source": [
    "#Cholesky decomposition of Ah\n",
    "C = np.linalg.cholesky(Ah)\n",
    "L = C\n",
    "U = C.T\n",
    "\n"
   ]
  },
  {
   "cell_type": "code",
   "execution_count": 13,
   "metadata": {},
   "outputs": [],
   "source": [
    "u_prime\t= np.linalg.solve(U, vecF)\n",
    "u\t= np.linalg.solve(L, u_prime)\n",
    "test\t= np.linalg.solve(Ah, vecF)"
   ]
  },
  {
   "cell_type": "code",
   "execution_count": 14,
   "metadata": {},
   "outputs": [],
   "source": [
    "array_u = u.reshape((N+1,N+1))"
   ]
  },
  {
   "cell_type": "code",
   "execution_count": 15,
   "metadata": {},
   "outputs": [],
   "source": [
    "u_ex = np.sin(X*Y)\n",
    "u_ex_b = U0+0*u_ex\n",
    "u_ex_b[1:-1,1:-1] = u_ex[1:-1,1:-1]\n",
    "vec_u_ex = u_ex_b.flatten()"
   ]
  },
  {
   "cell_type": "code",
   "execution_count": 16,
   "metadata": {},
   "outputs": [
    {
     "data": {
      "text/plain": [
       "<matplotlib.colorbar.Colorbar at 0x1bd1f648d90>"
      ]
     },
     "execution_count": 16,
     "metadata": {},
     "output_type": "execute_result"
    },
    {
     "data": {
      "image/png": "[encoded data removed]",
      "text/plain": [
       "<Figure size 432x288 with 2 Axes>"
      ]
     },
     "metadata": {
      "needs_background": "light"
     },
     "output_type": "display_data"
    }
   ],
   "source": [
    "plt.imshow(array_u, origin='lower')\n",
    "plt.colorbar()"
   ]
  },
  {
   "cell_type": "code",
   "execution_count": 17,
   "metadata": {},
   "outputs": [
    {
     "data": {
      "text/plain": [
       "<matplotlib.colorbar.Colorbar at 0x1bd1f6eaa00>"
      ]
     },
     "execution_count": 17,
     "metadata": {},
     "output_type": "execute_result"
    },
    {
     "data": {
      "image/png": "[encoded data removed]",
      "text/plain": [
       "<Figure size 432x288 with 2 Axes>"
      ]
     },
     "metadata": {
      "needs_background": "light"
     },
     "output_type": "display_data"
    }
   ],
   "source": [
    "plt.imshow(u_ex_b, origin='lower')\n",
    "plt.colorbar()"
   ]
  },
  {
   "cell_type": "code",
   "execution_count": 18,
   "metadata": {},
   "outputs": [
    {
     "name": "stdout",
     "output_type": "stream",
     "text": [
      "h**2: 0.0002\t error: 0.2959\n"
     ]
    }
   ],
   "source": [
    "error = np.sqrt(h**2 *np.sum((vec_u_ex-u)**2))\n",
    "print(\"h**2: {:.4f}\\t error: {:.4f}\".format(h**2, error))"
   ]
  },
  {
   "cell_type": "code",
   "execution_count": 19,
   "metadata": {},
   "outputs": [
    {
     "data": {
      "text/plain": [
       "16384.0"
      ]
     },
     "execution_count": 19,
     "metadata": {},
     "output_type": "execute_result"
    }
   ],
   "source": [
    "4/(h**2)"
   ]
  },
  {
   "cell_type": "code",
   "execution_count": null,
   "metadata": {},
   "outputs": [],
   "source": []
  }
 ],
 "metadata": {
  "interpreter": {
   "hash": "2ea1d2d7f4049888098689028c10f21718f9dd1594b80595dd2baeb3be943db3"
  },
  "kernelspec": {
   "display_name": "Python 3.9.5 64-bit",
   "language": "python",
   "name": "python3"
  },
  "language_info": {
   "codemirror_mode": {
    "name": "ipython",
    "version": 3
   },
   "file_extension": ".py",
   "mimetype": "text/x-python",
   "name": "python",
   "nbconvert_exporter": "python",
   "pygments_lexer": "ipython3",
   "version": "3.9.0"
  },
  "orig_nbformat": 4
 },
 "nbformat": 4,
 "nbformat_minor": 2
}
