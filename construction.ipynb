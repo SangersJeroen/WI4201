{
 "cells": [
  {
   "cell_type": "code",
   "execution_count": 1,
   "metadata": {},
   "outputs": [],
   "source": [
    "import numpy as np\n"
   ]
  },
  {
   "cell_type": "code",
   "execution_count": 2,
   "metadata": {},
   "outputs": [],
   "source": [
    "#Defining the constants\n",
    "N = 10\n",
    "h = 1/N"
   ]
  },
  {
   "cell_type": "code",
   "execution_count": 5,
   "metadata": {},
   "outputs": [],
   "source": [
    "#Construction of \\hat{T}_h\n",
    "hat_Th = np.zeros((N+1,N+1))\n",
    "hat_Th[0,0] = h**2\n",
    "hat_Th[-1,-1] = h**2\n",
    "Th = 4*np.eye(N-1)-np.eye(N-1, k=-1)-np.eye(N-1, k=1)\n",
    "\n",
    "hat_Th[1:-1,1:-1] = Th\n",
    "\n",
    "hatI = np.eye(N+1)\n",
    "hatI[0,0] = 0\n",
    "hatI[-1,-1]=0"
   ]
  },
  {
   "cell_type": "code",
   "execution_count": 6,
   "metadata": {},
   "outputs": [
    {
     "data": {
      "text/plain": [
       "array([[ 0.01,  0.  ,  0.  ,  0.  ,  0.  ,  0.  ,  0.  ,  0.  ,  0.  ,\n",
       "         0.  ,  0.  ],\n",
       "       [ 0.  ,  4.  , -1.  ,  0.  ,  0.  ,  0.  ,  0.  ,  0.  ,  0.  ,\n",
       "         0.  ,  0.  ],\n",
       "       [ 0.  , -1.  ,  4.  , -1.  ,  0.  ,  0.  ,  0.  ,  0.  ,  0.  ,\n",
       "         0.  ,  0.  ],\n",
       "       [ 0.  ,  0.  , -1.  ,  4.  , -1.  ,  0.  ,  0.  ,  0.  ,  0.  ,\n",
       "         0.  ,  0.  ],\n",
       "       [ 0.  ,  0.  ,  0.  , -1.  ,  4.  , -1.  ,  0.  ,  0.  ,  0.  ,\n",
       "         0.  ,  0.  ],\n",
       "       [ 0.  ,  0.  ,  0.  ,  0.  , -1.  ,  4.  , -1.  ,  0.  ,  0.  ,\n",
       "         0.  ,  0.  ],\n",
       "       [ 0.  ,  0.  ,  0.  ,  0.  ,  0.  , -1.  ,  4.  , -1.  ,  0.  ,\n",
       "         0.  ,  0.  ],\n",
       "       [ 0.  ,  0.  ,  0.  ,  0.  ,  0.  ,  0.  , -1.  ,  4.  , -1.  ,\n",
       "         0.  ,  0.  ],\n",
       "       [ 0.  ,  0.  ,  0.  ,  0.  ,  0.  ,  0.  ,  0.  , -1.  ,  4.  ,\n",
       "        -1.  ,  0.  ],\n",
       "       [ 0.  ,  0.  ,  0.  ,  0.  ,  0.  ,  0.  ,  0.  ,  0.  , -1.  ,\n",
       "         4.  ,  0.  ],\n",
       "       [ 0.  ,  0.  ,  0.  ,  0.  ,  0.  ,  0.  ,  0.  ,  0.  ,  0.  ,\n",
       "         0.  ,  0.01]])"
      ]
     },
     "execution_count": 6,
     "metadata": {},
     "output_type": "execute_result"
    }
   ],
   "source": []
  },
  {
   "cell_type": "code",
   "execution_count": null,
   "metadata": {},
   "outputs": [],
   "source": []
  }
 ],
 "metadata": {
  "interpreter": {
   "hash": "2ea1d2d7f4049888098689028c10f21718f9dd1594b80595dd2baeb3be943db3"
  },
  "kernelspec": {
   "display_name": "Python 3.9.5 64-bit",
   "language": "python",
   "name": "python3"
  },
  "language_info": {
   "codemirror_mode": {
    "name": "ipython",
    "version": 3
   },
   "file_extension": ".py",
   "mimetype": "text/x-python",
   "name": "python",
   "nbconvert_exporter": "python",
   "pygments_lexer": "ipython3",
   "version": "3.9.5"
  },
  "orig_nbformat": 4
 },
 "nbformat": 4,
 "nbformat_minor": 2
}
