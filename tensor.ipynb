{
 "cells": [
  {
   "cell_type": "code",
   "execution_count": 346,
   "metadata": {},
   "outputs": [],
   "source": [
    "import numpy as np\n",
    "import matplotlib.pyplot as plt\n",
    "from scipy import sparse as ssp\n",
    "import scipy.linalg as salg\n",
    "from scipy.sparse.linalg import spsolve, splu\n",
    "from collections.abc import Callable\n"
   ]
  },
  {
   "cell_type": "code",
   "execution_count": 347,
   "metadata": {},
   "outputs": [],
   "source": [
    "#Defining the constants\n",
    "P = 2\t\t#Power of two\n",
    "N = 2**P\t#Number of subdivisions\n",
    "U0 = 0.01 \t#The border constant we might need to use?\n",
    "h = 1/N\t\t#Discretisation step\n",
    "\n",
    "DEBUG = True"
   ]
  },
  {
   "cell_type": "code",
   "execution_count": 348,
   "metadata": {},
   "outputs": [],
   "source": [
    "\n",
    "def get_elem_mat(N: int, dimension: str) -> ssp.csr_matrix:\n",
    "\t\"\"\"Creates the element matrix 'Ah' for the 2D or 3D discrete laplaciaan\n",
    "\n",
    "\tParameters\n",
    "\t----------\n",
    "\tN : int\n",
    "\t    Number of points in a direction of the grid\n",
    "\tdimension : str\n",
    "\t    2D/3D for two/three-dimensional discrete laplacian\n",
    "\n",
    "\tReturns\n",
    "\t-------\n",
    "\tssp.csc_matrix\n",
    "\t    The element matrix Ah\n",
    "\t\"\"\"\t\n",
    "\tone_dim_diff = 2*np.eye((N))-np.eye((N), k=-1)-np.eye((N), k=1)\n",
    "\n",
    "\n",
    "\tONE_DIM_DIFF\t= ssp.csr_matrix(one_dim_diff.astype(int))\n",
    "\tID \t\t= ssp.csr_matrix(np.eye(N).astype(int))\n",
    "\n",
    "\tx_dim_diff = (1/(h**2) * ssp.kron(ONE_DIM_DIFF,ID))\n",
    "\ty_dim_diff = (1/(h**2) * ssp.kron(ID, ONE_DIM_DIFF))\n",
    "\n",
    "\tX_DIM_DIFF \t= ssp.csr_matrix(x_dim_diff.astype(int))\n",
    "\tY_DIM_DIFF \t= ssp.csr_matrix(y_dim_diff.astype(int))\n",
    "\tTWO_LAPLACE \t= ssp.csr_matrix(x_dim_diff + y_dim_diff)\n",
    "\n",
    "\tone_dim_diff = None\n",
    "\tx_dim_diff = None\n",
    "\ty_dim_diff = None\n",
    "\n",
    "\tif dimension == \"2D\":\n",
    "\t\treturn TWO_LAPLACE\n",
    "\n",
    "\telif dimension == \"3D\":\t\n",
    "\t\tz_dim_diff = (1/(h**2)*(\n",
    "\t\t\tssp.kron(ID,\n",
    "\t\t\t\tssp.kron(ID, ONE_DIM_DIFF)\n",
    "\t\t\t\t)\n",
    "\t\t\t)\n",
    "\t\t)\n",
    "\n",
    "\t\tZ_DIM_DIFF \t= ssp.csr_matrix(z_dim_diff.astype(int))\n",
    "\t\tz_dim_diff = None\n",
    "\n",
    "\t\tTHREE_LAPLACE = (ssp.kron(X_DIM_DIFF, ID) \n",
    "\t\t\t\t+ssp.kron(Y_DIM_DIFF, ID)\n",
    "\t\t\t\t+Z_DIM_DIFF)\n",
    "\t\t\n",
    "\t\treturn THREE_LAPLACE\n",
    "\n",
    "\telse:\n",
    "\t\traise ValueError('string: Dimension, either \"2D\" or \"3D\"')\n"
   ]
  },
  {
   "cell_type": "code",
   "execution_count": 349,
   "metadata": {},
   "outputs": [],
   "source": [
    "def build_forcing_vector(lin_spaces: list,\n",
    "\t\t\t internal_fun,\n",
    "\t\t\t boundary_fun  = None\n",
    "\t\t\t ) -> np.ndarray:\n",
    "\t\"\"\"Builds the RHS of the linear system for a arbitray-dimensional laplacian\n",
    "\n",
    "\tParameters\n",
    "\t----------\n",
    "\tlin_spaces : list\n",
    "\t    List of arrays of points that will be used to build the meshgrid\n",
    "\tinternal_fun : Callable[list[float]]\n",
    "\t    Function that takes n-dimensional coordinate arrays and returns the value of the forcing at that coordinate\n",
    "\tboundary_fun : Callable[list[float]]\n",
    "\t    Function that takes n-dimensional coordinate arrays and returns the value of the forcing at that boundary coordinate\n",
    "\n",
    "\tReturns\n",
    "\t-------\n",
    "\tnp.ndarray\n",
    "\t    The forcing vector\n",
    "\t\"\"\"\t\n",
    "\tgrids = np.meshgrid(*lin_spaces)\n",
    "\tinternal_forcing_array = internal_fun(*grids)\n",
    "\tif boundary_fun == None:\n",
    "\t\tdef boundary_fun(*grids):\n",
    "\t\t\treturn 0*grids[0]\n",
    "\t\t\t\n",
    "\tboundary_forcing_array = boundary_fun(*grids)\n",
    "\n",
    "\tdims = len(lin_spaces)\n",
    "\tmask = tuple([slice(1,-1)]*dims)\n",
    "\tforcing, forcing[mask] = boundary_forcing_array, internal_forcing_array[mask]\n",
    "\tprint(mask)\n",
    "\n",
    "\tforcing_vector = forcing.flatten()\n",
    "\treturn forcing_vector\n"
   ]
  },
  {
   "cell_type": "code",
   "execution_count": 350,
   "metadata": {},
   "outputs": [],
   "source": [
    "def int_forc_fun(x,y):\n",
    "\treturn (x**2 + y**2)*np.sin(x*y)\n",
    "\n",
    "def bound_forc_fun(x,y):\n",
    "\treturn np.sin(x*y)\n",
    "\n",
    "x = np.linspace(0,1,N+1)\n",
    "y = np.linspace(0,1,N+1)\n",
    "\n",
    "X, Y = np.meshgrid(x,y)"
   ]
  },
  {
   "cell_type": "code",
   "execution_count": 351,
   "metadata": {},
   "outputs": [
    {
     "name": "stdout",
     "output_type": "stream",
     "text": [
      "(slice(1, -1, None), slice(1, -1, None))\n"
     ]
    }
   ],
   "source": [
    "vecF = build_forcing_vector([x,y], int_forc_fun, bound_forc_fun)"
   ]
  },
  {
   "cell_type": "code",
   "execution_count": 352,
   "metadata": {},
   "outputs": [],
   "source": [
    "TWO_LAPLACE = get_elem_mat(N+1, \"2D\")"
   ]
  },
  {
   "cell_type": "code",
   "execution_count": 353,
   "metadata": {},
   "outputs": [],
   "source": [
    "#Manipulating the 2D-laplacian and the forcing vector to obey boundary elements\n",
    "#By selecting the boundary points\n",
    "Xval, Yval = X.ravel(), Y.ravel()\n",
    "\n",
    "boundary_list = np.squeeze(\n",
    "\tnp.where(\n",
    "\t\t(Xval==x[0]) | (Xval==x[-1]) | (Yval==y[0]) | (Yval==y[-1])\n",
    "\t)\n",
    ");\n",
    "\n",
    "SPARSE_ID = ssp.eye((N+1)**2).tocsr()\n",
    "for row in boundary_list:\n",
    "\tTWO_LAPLACE[row,:] = SPARSE_ID[row,:]\n",
    "SPARSE_ID = None\n",
    "\n"
   ]
  },
  {
   "cell_type": "code",
   "execution_count": 354,
   "metadata": {},
   "outputs": [],
   "source": [
    "\n",
    "# %time test = TWO_LAPLACE.toarray()\n",
    "# plt.imshow(test)\n",
    "# plt.colorbar()"
   ]
  },
  {
   "cell_type": "code",
   "execution_count": 355,
   "metadata": {},
   "outputs": [
    {
     "data": {
      "text/plain": [
       "array([ 0,  1,  2,  3,  4,  5,  9, 10, 14, 15, 19, 20, 21, 22, 23, 24],\n",
       "      dtype=int64)"
      ]
     },
     "execution_count": 355,
     "metadata": {},
     "output_type": "execute_result"
    }
   ],
   "source": [
    "boundary_list"
   ]
  },
  {
   "cell_type": "code",
   "execution_count": 356,
   "metadata": {},
   "outputs": [],
   "source": [
    "# test[:,boundary_list] = 0*np.ones(((N+1)**2,(N+1)**2))[:,boundary_list]\n",
    "# plt.imshow(test)\n",
    "# plt.colorbar()"
   ]
  },
  {
   "cell_type": "code",
   "execution_count": 357,
   "metadata": {},
   "outputs": [
    {
     "data": {
      "text/plain": [
       "(25, 25)"
      ]
     },
     "execution_count": 357,
     "metadata": {},
     "output_type": "execute_result"
    }
   ],
   "source": [
    "size = (N+1)**2\n",
    "\n",
    "TWO_LAPLACE = TWO_LAPLACE.tocsc()\n",
    "P_MATRIX = ssp.csc_matrix((size,size))\n",
    "\n",
    "\n",
    "TWO_LAPLACE.shape\n"
   ]
  },
  {
   "cell_type": "code",
   "execution_count": 358,
   "metadata": {},
   "outputs": [
    {
     "data": {
      "text/plain": [
       "<matplotlib.colorbar.Colorbar at 0x1fb1f5d3130>"
      ]
     },
     "execution_count": 358,
     "metadata": {},
     "output_type": "execute_result"
    },
    {
     "data": {
      "image/png": "[encoded data removed]",
      "text/plain": [
       "<Figure size 432x288 with 2 Axes>"
      ]
     },
     "metadata": {
      "needs_background": "light"
     },
     "output_type": "display_data"
    }
   ],
   "source": [
    "ones = np.zeros((size,size))\n",
    "ones[boundary_list,boundary_list] = 1\n",
    "\n",
    "plt.imshow(ones)\n",
    "plt.colorbar()"
   ]
  },
  {
   "cell_type": "code",
   "execution_count": 359,
   "metadata": {},
   "outputs": [
    {
     "name": "stdout",
     "output_type": "stream",
     "text": [
      "<class 'scipy.sparse.csc.csc_matrix'>\n",
      "<class 'numpy.matrix'>\n"
     ]
    }
   ],
   "source": [
    "ZEROES = ssp.csc_matrix((size,size))\n",
    "\n",
    "for column in boundary_list:\n",
    "\tP_MATRIX[:, column] = TWO_LAPLACE[:, column]\n",
    "\tTWO_LAPLACE[:,column] = ZEROES[:,column]\n",
    "\n",
    "print(type(TWO_LAPLACE))\n",
    "\n",
    "TWO_LAPLACE = (TWO_LAPLACE + ones)\n",
    "P_MATRIX = (P_MATRIX - ones)\n",
    "\n",
    "print(type(TWO_LAPLACE))"
   ]
  },
  {
   "cell_type": "code",
   "execution_count": 360,
   "metadata": {},
   "outputs": [
    {
     "data": {
      "text/plain": [
       "numpy.matrix"
      ]
     },
     "execution_count": 360,
     "metadata": {},
     "output_type": "execute_result"
    }
   ],
   "source": [
    "type(P_MATRIX)"
   ]
  },
  {
   "cell_type": "code",
   "execution_count": 361,
   "metadata": {},
   "outputs": [
    {
     "data": {
      "text/plain": [
       "<matplotlib.colorbar.Colorbar at 0x1fb1f679220>"
      ]
     },
     "execution_count": 361,
     "metadata": {},
     "output_type": "execute_result"
    },
    {
     "data": {
      "image/png": "[encoded data removed]",
      "text/plain": [
       "<Figure size 432x288 with 2 Axes>"
      ]
     },
     "metadata": {
      "needs_background": "light"
     },
     "output_type": "display_data"
    }
   ],
   "source": [
    "pm = P_MATRIX\n",
    "plt.imshow(pm)\n",
    "plt.colorbar()"
   ]
  },
  {
   "cell_type": "code",
   "execution_count": 362,
   "metadata": {},
   "outputs": [
    {
     "data": {
      "text/plain": [
       "<matplotlib.colorbar.Colorbar at 0x1fb1f72cac0>"
      ]
     },
     "execution_count": 362,
     "metadata": {},
     "output_type": "execute_result"
    },
    {
     "data": {
      "image/png": "[encoded data removed]",
      "text/plain": [
       "<Figure size 432x288 with 2 Axes>"
      ]
     },
     "metadata": {
      "needs_background": "light"
     },
     "output_type": "display_data"
    }
   ],
   "source": [
    "two_lapl = TWO_LAPLACE\n",
    "plt.imshow(two_lapl[0:10,0:10])\n",
    "plt.colorbar()"
   ]
  },
  {
   "cell_type": "code",
   "execution_count": 363,
   "metadata": {},
   "outputs": [
    {
     "data": {
      "text/plain": [
       "(25, 25)"
      ]
     },
     "execution_count": 363,
     "metadata": {},
     "output_type": "execute_result"
    }
   ],
   "source": [
    "P_MATRIX.shape"
   ]
  },
  {
   "cell_type": "code",
   "execution_count": 364,
   "metadata": {},
   "outputs": [],
   "source": [
    "#Building u0\n",
    "U0 = np.sin(X*Y)\n",
    "u0 = U0.flatten()\n",
    "to_subtract = P_MATRIX.dot(u0)\n"
   ]
  },
  {
   "cell_type": "code",
   "execution_count": 365,
   "metadata": {},
   "outputs": [],
   "source": [
    "vecF = np.subtract(vecF, to_subtract)"
   ]
  },
  {
   "cell_type": "code",
   "execution_count": 366,
   "metadata": {},
   "outputs": [
    {
     "data": {
      "text/plain": [
       "(25, 25)"
      ]
     },
     "execution_count": 366,
     "metadata": {},
     "output_type": "execute_result"
    }
   ],
   "source": [
    "TWO_LAPLACE.shape"
   ]
  },
  {
   "cell_type": "code",
   "execution_count": null,
   "metadata": {},
   "outputs": [],
   "source": []
  },
  {
   "cell_type": "code",
   "execution_count": 367,
   "metadata": {},
   "outputs": [],
   "source": [
    "u = spsolve(TWO_LAPLACE, vecF.T)"
   ]
  },
  {
   "cell_type": "code",
   "execution_count": 368,
   "metadata": {},
   "outputs": [
    {
     "data": {
      "text/plain": [
       "<matplotlib.colorbar.Colorbar at 0x1fb1f7c5f10>"
      ]
     },
     "execution_count": 368,
     "metadata": {},
     "output_type": "execute_result"
    },
    {
     "data": {
      "image/png": "[encoded data removed]",
      "text/plain": [
       "<Figure size 432x288 with 2 Axes>"
      ]
     },
     "metadata": {
      "needs_background": "light"
     },
     "output_type": "display_data"
    }
   ],
   "source": [
    "plt.imshow(TWO_LAPLACE)\n",
    "plt.colorbar()"
   ]
  },
  {
   "cell_type": "code",
   "execution_count": 369,
   "metadata": {},
   "outputs": [
    {
     "data": {
      "text/plain": [
       "<matplotlib.colorbar.Colorbar at 0x1fb20841700>"
      ]
     },
     "execution_count": 369,
     "metadata": {},
     "output_type": "execute_result"
    },
    {
     "data": {
      "image/png": "[encoded data removed]",
      "text/plain": [
       "<Figure size 432x288 with 2 Axes>"
      ]
     },
     "metadata": {
      "needs_background": "light"
     },
     "output_type": "display_data"
    }
   ],
   "source": [
    "array_u = u.reshape((N+1,N+1))\n",
    "plt.imshow(array_u, origin='lower');\n",
    "plt.colorbar()"
   ]
  },
  {
   "cell_type": "code",
   "execution_count": 370,
   "metadata": {},
   "outputs": [],
   "source": [
    "u_ex = np.sin(X*Y)\n",
    "vec_u_ex = u_ex.flatten()"
   ]
  },
  {
   "cell_type": "code",
   "execution_count": 371,
   "metadata": {},
   "outputs": [
    {
     "name": "stdout",
     "output_type": "stream",
     "text": [
      "h**2: 0.06250\t error: 0.00002\n",
      "relative error: 0.0003\t [h**2]\n"
     ]
    }
   ],
   "source": [
    "error = np.sqrt(h**2 *np.sum((vec_u_ex-u)**2))\n",
    "print(\"h**2: {:.5f}\\t error: {:.5f}\".format(h**2, error))\n",
    "print('relative error: {:.4f}\\t [h**2]'.format(error/(h**2)))"
   ]
  },
  {
   "cell_type": "code",
   "execution_count": 405,
   "metadata": {},
   "outputs": [
    {
     "data": {
      "text/plain": [
       "<matplotlib.colorbar.Colorbar at 0x1fb226afeb0>"
      ]
     },
     "execution_count": 405,
     "metadata": {},
     "output_type": "execute_result"
    },
    {
     "data": {
      "image/png": "[encoded data removed]",
      "text/plain": [
       "<Figure size 432x288 with 2 Axes>"
      ]
     },
     "metadata": {
      "needs_background": "light"
     },
     "output_type": "display_data"
    }
   ],
   "source": [
    "matrix_shape = TWO_LAPLACE.shape\n",
    "ID = ssp.eye(matrix_shape[0])\n",
    "zeroes = np.zeros(matrix_shape[0])\n",
    "\n",
    "SUM = ID.copy()\n",
    "for k in range(0, matrix_shape[1]):\n",
    "\tAkk = TWO_LAPLACE[k,k]\n",
    "\tvec = np.asarray(TWO_LAPLACE[:,k] / Akk).flatten()\n",
    "\tvec[0:k+1] = zeroes[0:k+1] \n",
    "\n",
    "\tek = zeroes.copy()\n",
    "\tek[k] = 1\n",
    "\n",
    "\tadd = np.outer(vec, ek)\n",
    "\n",
    "\tSUM += add\n",
    "\n",
    "L = SUM\n",
    "\n",
    "plt.imshow(L)\n",
    "plt.colorbar()\n"
   ]
  },
  {
   "cell_type": "code",
   "execution_count": 408,
   "metadata": {},
   "outputs": [
    {
     "data": {
      "text/plain": [
       "<matplotlib.colorbar.Colorbar at 0x1fb2282d160>"
      ]
     },
     "execution_count": 408,
     "metadata": {},
     "output_type": "execute_result"
    },
    {
     "data": {
      "image/png": "[encoded data removed]",
      "text/plain": [
       "<Figure size 432x288 with 2 Axes>"
      ]
     },
     "metadata": {
      "needs_background": "light"
     },
     "output_type": "display_data"
    }
   ],
   "source": [
    "U = salg.solve(L, TWO_LAPLACE)\n",
    "\n",
    "plt.imshow(L@U)\n",
    "plt.colorbar()"
   ]
  },
  {
   "cell_type": "code",
   "execution_count": 397,
   "metadata": {},
   "outputs": [
    {
     "data": {
      "text/plain": [
       "<matplotlib.colorbar.Colorbar at 0x1fb21245940>"
      ]
     },
     "execution_count": 397,
     "metadata": {},
     "output_type": "execute_result"
    },
    {
     "data": {
      "image/png": "[encoded data removed]",
      "text/plain": [
       "<Figure size 432x288 with 2 Axes>"
      ]
     },
     "metadata": {
      "needs_background": "light"
     },
     "output_type": "display_data"
    }
   ],
   "source": [
    "plt.imshow(L)\n",
    "plt.colorbar()"
   ]
  },
  {
   "cell_type": "code",
   "execution_count": null,
   "metadata": {},
   "outputs": [],
   "source": []
  },
  {
   "cell_type": "code",
   "execution_count": null,
   "metadata": {},
   "outputs": [],
   "source": []
  }
 ],
 "metadata": {
  "interpreter": {
   "hash": "2ea1d2d7f4049888098689028c10f21718f9dd1594b80595dd2baeb3be943db3"
  },
  "kernelspec": {
   "display_name": "Python 3.9.5 64-bit",
   "language": "python",
   "name": "python3"
  },
  "language_info": {
   "codemirror_mode": {
    "name": "ipython",
    "version": 3
   },
   "file_extension": ".py",
   "mimetype": "text/x-python",
   "name": "python",
   "nbconvert_exporter": "python",
   "pygments_lexer": "ipython3",
   "version": "3.9.5"
  },
  "orig_nbformat": 4
 },
 "nbformat": 4,
 "nbformat_minor": 2
}
