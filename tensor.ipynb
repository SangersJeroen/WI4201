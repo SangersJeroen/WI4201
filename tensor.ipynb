{
 "cells": [
  {
   "cell_type": "code",
   "execution_count": 1,
   "metadata": {},
   "outputs": [],
   "source": [
    "import numpy as np\n",
    "import matplotlib.pyplot as plt\n",
    "from scipy import sparse as ssp\n",
    "import scipy.linalg as salg\n",
    "from scipy.sparse.linalg import spsolve, splu, inv\n",
    "from scipy.sparse.csgraph import reverse_cuthill_mckee\n",
    "from collections.abc import Callable\n",
    "from sksparse.cholmod import cholesky"
   ]
  },
  {
   "cell_type": "code",
   "execution_count": 2,
   "metadata": {},
   "outputs": [],
   "source": [
    "#Defining the constants\n",
    "P = 6\t\t#Power of two\n",
    "N = 2**P\t#Number of subdivisions\n",
    "U0 = 0.01 \t#The border constant we might need to use?\n",
    "h = 1/N\t\t#Discretisation step\n",
    "\n",
    "DEBUG = True"
   ]
  },
  {
   "cell_type": "code",
   "execution_count": 3,
   "metadata": {},
   "outputs": [],
   "source": [
    "\n",
    "def get_elem_mat(N: int, dimension: str) -> ssp.csr_matrix:\n",
    "\t\"\"\"Creates the element matrix 'Ah' for the 2D or 3D discrete laplaciaan\n",
    "\n",
    "\tParameters\n",
    "\t----------\n",
    "\tN : int\n",
    "\t    Number of points in a direction of the grid\n",
    "\tdimension : str\n",
    "\t    2D/3D for two/three-dimensional discrete laplacian\n",
    "\n",
    "\tReturns\n",
    "\t-------\n",
    "\tssp.csc_matrix\n",
    "\t    The element matrix Ah\n",
    "\t\"\"\"\t\n",
    "\tone_dim_diff = 2*np.eye((N))-np.eye((N), k=-1)-np.eye((N), k=1)\n",
    "\n",
    "\n",
    "\tONE_DIM_DIFF\t= ssp.csr_matrix(one_dim_diff.astype(int))\n",
    "\tID \t\t= ssp.csr_matrix(np.eye(N).astype(int))\n",
    "\n",
    "\tx_dim_diff = (1/(h**2) * ssp.kron(ONE_DIM_DIFF,ID))\n",
    "\ty_dim_diff = (1/(h**2) * ssp.kron(ID, ONE_DIM_DIFF))\n",
    "\n",
    "\tX_DIM_DIFF \t= ssp.csr_matrix(x_dim_diff.astype(int))\n",
    "\tY_DIM_DIFF \t= ssp.csr_matrix(y_dim_diff.astype(int))\n",
    "\tTWO_LAPLACE \t= ssp.csr_matrix(x_dim_diff + y_dim_diff)\n",
    "\n",
    "\tone_dim_diff = None\n",
    "\tx_dim_diff = None\n",
    "\ty_dim_diff = None\n",
    "\n",
    "\tif dimension == \"2D\":\n",
    "\t\treturn TWO_LAPLACE\n",
    "\n",
    "\telif dimension == \"3D\":\t\n",
    "\t\tz_dim_diff = (1/(h**2)*(\n",
    "\t\t\tssp.kron(ID,\n",
    "\t\t\t\tssp.kron(ID, ONE_DIM_DIFF)\n",
    "\t\t\t\t)\n",
    "\t\t\t)\n",
    "\t\t)\n",
    "\n",
    "\t\tZ_DIM_DIFF \t= ssp.csr_matrix(z_dim_diff.astype(int))\n",
    "\t\tz_dim_diff = None\n",
    "\n",
    "\t\tTHREE_LAPLACE = (ssp.kron(X_DIM_DIFF, ID) \n",
    "\t\t\t\t+ssp.kron(Y_DIM_DIFF, ID)\n",
    "\t\t\t\t+Z_DIM_DIFF)\n",
    "\t\t\n",
    "\t\treturn THREE_LAPLACE\n",
    "\n",
    "\telse:\n",
    "\t\traise ValueError('string: Dimension, either \"2D\" or \"3D\"')\n"
   ]
  },
  {
   "cell_type": "code",
   "execution_count": 4,
   "metadata": {},
   "outputs": [],
   "source": [
    "def build_forcing_vector(lin_spaces: list,\n",
    "\t\t\t internal_fun,\n",
    "\t\t\t boundary_fun  = None\n",
    "\t\t\t ) -> np.ndarray:\n",
    "\t\"\"\"Builds the RHS of the linear system for a arbitray-dimensional laplacian\n",
    "\n",
    "\tParameters\n",
    "\t----------\n",
    "\tlin_spaces : list\n",
    "\t    List of arrays of points that will be used to build the meshgrid\n",
    "\tinternal_fun : Callable[list[float]]\n",
    "\t    Function that takes n-dimensional coordinate arrays and returns the value of the forcing at that coordinate\n",
    "\tboundary_fun : Callable[list[float]]\n",
    "\t    Function that takes n-dimensional coordinate arrays and returns the value of the forcing at that boundary coordinate\n",
    "\n",
    "\tReturns\n",
    "\t-------\n",
    "\tnp.ndarray\n",
    "\t    The forcing vector\n",
    "\t\"\"\"\t\n",
    "\tgrids = np.meshgrid(*lin_spaces)\n",
    "\tinternal_forcing_array = internal_fun(*grids)\n",
    "\tif boundary_fun == None:\n",
    "\t\tdef boundary_fun(*grids):\n",
    "\t\t\treturn 0*grids[0]\n",
    "\t\t\t\n",
    "\tboundary_forcing_array = boundary_fun(*grids)\n",
    "\n",
    "\tdims = len(lin_spaces)\n",
    "\tmask = tuple([slice(1,-1)]*dims)\n",
    "\tforcing, forcing[mask] = boundary_forcing_array, internal_forcing_array[mask]\n",
    "\tprint(mask)\n",
    "\n",
    "\tforcing_vector = forcing.flatten()\n",
    "\treturn forcing_vector\n"
   ]
  },
  {
   "cell_type": "code",
   "execution_count": 5,
   "metadata": {},
   "outputs": [
    {
     "name": "stdout",
     "output_type": "stream",
     "text": [
      "CPU times: user 603 µs, sys: 360 µs, total: 963 µs\n",
      "Wall time: 680 µs\n"
     ]
    }
   ],
   "source": [
    "%%time\n",
    "\n",
    "def int_forc_fun(x,y):\n",
    "\treturn (x**2 + y**2)*np.sin(x*y)\n",
    "\n",
    "def bound_forc_fun(x,y):\n",
    "\treturn np.sin(x*y)\n",
    "\n",
    "x = np.linspace(0,1,N+1)\n",
    "y = np.linspace(0,1,N+1)\n",
    "z = np.linspace(0,1,N+1)\n",
    "\n",
    "X, Y = np.meshgrid(x,y)\n"
   ]
  },
  {
   "cell_type": "code",
   "execution_count": 6,
   "metadata": {},
   "outputs": [
    {
     "name": "stdout",
     "output_type": "stream",
     "text": [
      "(slice(1, -1, None), slice(1, -1, None))\n"
     ]
    }
   ],
   "source": [
    "vecF = build_forcing_vector([x,y], int_forc_fun, bound_forc_fun)"
   ]
  },
  {
   "cell_type": "code",
   "execution_count": 7,
   "metadata": {},
   "outputs": [
    {
     "name": "stdout",
     "output_type": "stream",
     "text": [
      "CPU times: user 6.86 ms, sys: 1.35 ms, total: 8.2 ms\n",
      "Wall time: 5.76 ms\n"
     ]
    }
   ],
   "source": [
    "%%time\n",
    "TWO_LAPLACE = get_elem_mat(N+1, \"2D\")"
   ]
  },
  {
   "cell_type": "code",
   "execution_count": 8,
   "metadata": {},
   "outputs": [
    {
     "name": "stdout",
     "output_type": "stream",
     "text": [
      "CPU times: user 76.5 ms, sys: 0 ns, total: 76.5 ms\n",
      "Wall time: 74.4 ms\n"
     ]
    }
   ],
   "source": [
    "%%time\n",
    "#Manipulating the 2D-laplacian and the forcing vector to obey boundary elements\n",
    "#By selecting the boundary points\n",
    "Xval, Yval = X.ravel(), Y.ravel()\n",
    "\n",
    "boundary_list = np.squeeze(\n",
    "\tnp.where(\n",
    "\t\t(Xval==x[0]) | (Xval==x[-1]) | (Yval==y[0]) | (Yval==y[-1])\n",
    "\t)\n",
    ");\n",
    "\n",
    "SPARSE_ID = ssp.eye((N+1)**2).tocsr()\n",
    "for row in boundary_list:\n",
    "\tTWO_LAPLACE[row,:] = SPARSE_ID[row,:]\n",
    "\n"
   ]
  },
  {
   "cell_type": "code",
   "execution_count": 9,
   "metadata": {},
   "outputs": [
    {
     "data": {
      "text/plain": [
       "(4225, 4225)"
      ]
     },
     "execution_count": 9,
     "metadata": {},
     "output_type": "execute_result"
    }
   ],
   "source": [
    "size = (N+1)**2\n",
    "\n",
    "TWO_LAPLACE = TWO_LAPLACE.tocsc()\n",
    "P_MATRIX = ssp.csc_matrix((size,size))\n",
    "\n",
    "\n",
    "TWO_LAPLACE.shape\n"
   ]
  },
  {
   "cell_type": "code",
   "execution_count": 10,
   "metadata": {},
   "outputs": [
    {
     "name": "stdout",
     "output_type": "stream",
     "text": [
      "(4225, 4225)\n"
     ]
    },
    {
     "name": "stderr",
     "output_type": "stream",
     "text": [
      "/home/jeroensangers/.local/lib/python3.8/site-packages/scipy/sparse/_index.py:125: SparseEfficiencyWarning: Changing the sparsity structure of a csr_matrix is expensive. lil_matrix is more efficient.\n",
      "  self._set_arrayXarray(i, j, x)\n"
     ]
    }
   ],
   "source": [
    "ONES = ssp.csr_matrix((size,size))\n",
    "ONES[boundary_list,boundary_list] = 1\n",
    "\n",
    "print(ONES.shape)\n"
   ]
  },
  {
   "cell_type": "code",
   "execution_count": 11,
   "metadata": {},
   "outputs": [
    {
     "name": "stdout",
     "output_type": "stream",
     "text": [
      "  (0, 0)\t1.0\n",
      "  (1, 1)\t1.0\n",
      "  (2, 2)\t1.0\n",
      "  (3, 3)\t1.0\n",
      "  (4, 4)\t1.0\n",
      "  (5, 5)\t1.0\n",
      "  (6, 6)\t1.0\n",
      "  (7, 7)\t1.0\n",
      "  (8, 8)\t1.0\n",
      "  (9, 9)\t1.0\n",
      "  (10, 10)\t1.0\n",
      "  (11, 11)\t1.0\n",
      "  (12, 12)\t1.0\n",
      "  (13, 13)\t1.0\n",
      "  (14, 14)\t1.0\n",
      "  (15, 15)\t1.0\n",
      "  (16, 16)\t1.0\n",
      "  (17, 17)\t1.0\n",
      "  (18, 18)\t1.0\n",
      "  (19, 19)\t1.0\n",
      "  (20, 20)\t1.0\n",
      "  (21, 21)\t1.0\n",
      "  (22, 22)\t1.0\n",
      "  (23, 23)\t1.0\n",
      "  (24, 24)\t1.0\n",
      "  :\t:\n",
      "  (4200, 4200)\t1.0\n",
      "  (4201, 4201)\t1.0\n",
      "  (4202, 4202)\t1.0\n",
      "  (4203, 4203)\t1.0\n",
      "  (4204, 4204)\t1.0\n",
      "  (4205, 4205)\t1.0\n",
      "  (4206, 4206)\t1.0\n",
      "  (4207, 4207)\t1.0\n",
      "  (4208, 4208)\t1.0\n",
      "  (4209, 4209)\t1.0\n",
      "  (4210, 4210)\t1.0\n",
      "  (4211, 4211)\t1.0\n",
      "  (4212, 4212)\t1.0\n",
      "  (4213, 4213)\t1.0\n",
      "  (4214, 4214)\t1.0\n",
      "  (4215, 4215)\t1.0\n",
      "  (4216, 4216)\t1.0\n",
      "  (4217, 4217)\t1.0\n",
      "  (4218, 4218)\t1.0\n",
      "  (4219, 4219)\t1.0\n",
      "  (4220, 4220)\t1.0\n",
      "  (4221, 4221)\t1.0\n",
      "  (4222, 4222)\t1.0\n",
      "  (4223, 4223)\t1.0\n",
      "  (4224, 4224)\t1.0\n"
     ]
    }
   ],
   "source": [
    "ONES\n",
    "print(ONES)"
   ]
  },
  {
   "cell_type": "code",
   "execution_count": 12,
   "metadata": {},
   "outputs": [
    {
     "name": "stdout",
     "output_type": "stream",
     "text": [
      "  (0, 0)\t1.0\n",
      "  (1, 1)\t1.0\n",
      "  (2, 2)\t1.0\n",
      "  (3, 3)\t1.0\n",
      "  (4, 4)\t1.0\n",
      "  (5, 5)\t1.0\n",
      "  (6, 6)\t1.0\n",
      "  (7, 7)\t1.0\n",
      "  (8, 8)\t1.0\n",
      "  (9, 9)\t1.0\n",
      "  (10, 10)\t1.0\n",
      "  (11, 11)\t1.0\n",
      "  (12, 12)\t1.0\n",
      "  (13, 13)\t1.0\n",
      "  (14, 14)\t1.0\n",
      "  (15, 15)\t1.0\n",
      "  (16, 16)\t1.0\n",
      "  (17, 17)\t1.0\n",
      "  (18, 18)\t1.0\n",
      "  (19, 19)\t1.0\n",
      "  (20, 20)\t1.0\n",
      "  (21, 21)\t1.0\n",
      "  (22, 22)\t1.0\n",
      "  (23, 23)\t1.0\n",
      "  (24, 24)\t1.0\n",
      "  :\t:\n",
      "  (4200, 4200)\t1.0\n",
      "  (4201, 4201)\t1.0\n",
      "  (4202, 4202)\t1.0\n",
      "  (4203, 4203)\t1.0\n",
      "  (4204, 4204)\t1.0\n",
      "  (4205, 4205)\t1.0\n",
      "  (4206, 4206)\t1.0\n",
      "  (4207, 4207)\t1.0\n",
      "  (4208, 4208)\t1.0\n",
      "  (4209, 4209)\t1.0\n",
      "  (4210, 4210)\t1.0\n",
      "  (4211, 4211)\t1.0\n",
      "  (4212, 4212)\t1.0\n",
      "  (4213, 4213)\t1.0\n",
      "  (4214, 4214)\t1.0\n",
      "  (4215, 4215)\t1.0\n",
      "  (4216, 4216)\t1.0\n",
      "  (4217, 4217)\t1.0\n",
      "  (4218, 4218)\t1.0\n",
      "  (4219, 4219)\t1.0\n",
      "  (4220, 4220)\t1.0\n",
      "  (4221, 4221)\t1.0\n",
      "  (4222, 4222)\t1.0\n",
      "  (4223, 4223)\t1.0\n",
      "  (4224, 4224)\t1.0\n"
     ]
    }
   ],
   "source": [
    "print(SPARSE_ID)"
   ]
  },
  {
   "cell_type": "code",
   "execution_count": 13,
   "metadata": {},
   "outputs": [
    {
     "name": "stdout",
     "output_type": "stream",
     "text": [
      "[   0    1    2    3    4    5    6    7    8    9   10   11   12   13\n",
      "   14   15   16   17   18   19   20   21   22   23   24   25   26   27\n",
      "   28   29   30   31   32   33   34   35   36   37   38   39   40   41\n",
      "   42   43   44   45   46   47   48   49   50   51   52   53   54   55\n",
      "   56   57   58   59   60   61   62   63   64   65  129  130  194  195\n",
      "  259  260  324  325  389  390  454  455  519  520  584  585  649  650\n",
      "  714  715  779  780  844  845  909  910  974  975 1039 1040 1104 1105\n",
      " 1169 1170 1234 1235 1299 1300 1364 1365 1429 1430 1494 1495 1559 1560\n",
      " 1624 1625 1689 1690 1754 1755 1819 1820 1884 1885 1949 1950 2014 2015\n",
      " 2079 2080 2144 2145 2209 2210 2274 2275 2339 2340 2404 2405 2469 2470\n",
      " 2534 2535 2599 2600 2664 2665 2729 2730 2794 2795 2859 2860 2924 2925\n",
      " 2989 2990 3054 3055 3119 3120 3184 3185 3249 3250 3314 3315 3379 3380\n",
      " 3444 3445 3509 3510 3574 3575 3639 3640 3704 3705 3769 3770 3834 3835\n",
      " 3899 3900 3964 3965 4029 4030 4094 4095 4159 4160 4161 4162 4163 4164\n",
      " 4165 4166 4167 4168 4169 4170 4171 4172 4173 4174 4175 4176 4177 4178\n",
      " 4179 4180 4181 4182 4183 4184 4185 4186 4187 4188 4189 4190 4191 4192\n",
      " 4193 4194 4195 4196 4197 4198 4199 4200 4201 4202 4203 4204 4205 4206\n",
      " 4207 4208 4209 4210 4211 4212 4213 4214 4215 4216 4217 4218 4219 4220\n",
      " 4221 4222 4223 4224]\n"
     ]
    }
   ],
   "source": [
    "print(boundary_list)"
   ]
  },
  {
   "cell_type": "code",
   "execution_count": 14,
   "metadata": {},
   "outputs": [
    {
     "name": "stdout",
     "output_type": "stream",
     "text": [
      "<class 'scipy.sparse.csc.csc_matrix'>\n",
      "<class 'scipy.sparse.csc.csc_matrix'>\n",
      "CPU times: user 16.8 ms, sys: 18.5 ms, total: 35.3 ms\n",
      "Wall time: 32.4 ms\n"
     ]
    },
    {
     "name": "stderr",
     "output_type": "stream",
     "text": [
      "/home/jeroensangers/.local/lib/python3.8/site-packages/scipy/sparse/_index.py:116: SparseEfficiencyWarning: Changing the sparsity structure of a csc_matrix is expensive. lil_matrix is more efficient.\n",
      "  self._set_arrayXarray_sparse(i, j, x)\n"
     ]
    }
   ],
   "source": [
    "%%time\n",
    "\n",
    "ZEROES = ssp.csc_matrix((size,size))\n",
    "\n",
    "P_MATRIX[:, boundary_list] = TWO_LAPLACE[:, boundary_list]\n",
    "TWO_LAPLACE[:,boundary_list] = ZEROES[:,boundary_list]\n",
    "\n",
    "print(type(TWO_LAPLACE))\n",
    "\n",
    "TWO_LAPLACE = (TWO_LAPLACE + ONES)\n",
    "P_MATRIX = (P_MATRIX - ONES)\n",
    "\n",
    "print(type(TWO_LAPLACE))"
   ]
  },
  {
   "cell_type": "code",
   "execution_count": 15,
   "metadata": {},
   "outputs": [
    {
     "name": "stdout",
     "output_type": "stream",
     "text": [
      "  (66, 1)\t-4096.0\n",
      "  (67, 2)\t-4096.0\n",
      "  (68, 3)\t-4096.0\n",
      "  (69, 4)\t-4096.0\n",
      "  (70, 5)\t-4096.0\n",
      "  (71, 6)\t-4096.0\n",
      "  (72, 7)\t-4096.0\n",
      "  (73, 8)\t-4096.0\n",
      "  (74, 9)\t-4096.0\n",
      "  (75, 10)\t-4096.0\n",
      "  (76, 11)\t-4096.0\n",
      "  (77, 12)\t-4096.0\n",
      "  (78, 13)\t-4096.0\n",
      "  (79, 14)\t-4096.0\n",
      "  (80, 15)\t-4096.0\n",
      "  (81, 16)\t-4096.0\n",
      "  (82, 17)\t-4096.0\n",
      "  (83, 18)\t-4096.0\n",
      "  (84, 19)\t-4096.0\n",
      "  (85, 20)\t-4096.0\n",
      "  (86, 21)\t-4096.0\n",
      "  (87, 22)\t-4096.0\n",
      "  (88, 23)\t-4096.0\n",
      "  (89, 24)\t-4096.0\n",
      "  (90, 25)\t-4096.0\n",
      "  :\t:\n",
      "  (4134, 4199)\t-4096.0\n",
      "  (4135, 4200)\t-4096.0\n",
      "  (4136, 4201)\t-4096.0\n",
      "  (4137, 4202)\t-4096.0\n",
      "  (4138, 4203)\t-4096.0\n",
      "  (4139, 4204)\t-4096.0\n",
      "  (4140, 4205)\t-4096.0\n",
      "  (4141, 4206)\t-4096.0\n",
      "  (4142, 4207)\t-4096.0\n",
      "  (4143, 4208)\t-4096.0\n",
      "  (4144, 4209)\t-4096.0\n",
      "  (4145, 4210)\t-4096.0\n",
      "  (4146, 4211)\t-4096.0\n",
      "  (4147, 4212)\t-4096.0\n",
      "  (4148, 4213)\t-4096.0\n",
      "  (4149, 4214)\t-4096.0\n",
      "  (4150, 4215)\t-4096.0\n",
      "  (4151, 4216)\t-4096.0\n",
      "  (4152, 4217)\t-4096.0\n",
      "  (4153, 4218)\t-4096.0\n",
      "  (4154, 4219)\t-4096.0\n",
      "  (4155, 4220)\t-4096.0\n",
      "  (4156, 4221)\t-4096.0\n",
      "  (4157, 4222)\t-4096.0\n",
      "  (4158, 4223)\t-4096.0\n"
     ]
    }
   ],
   "source": [
    "print(P_MATRIX)"
   ]
  },
  {
   "cell_type": "code",
   "execution_count": 16,
   "metadata": {},
   "outputs": [
    {
     "data": {
      "text/plain": [
       "<matplotlib.colorbar.Colorbar at 0x7f707e837c70>"
      ]
     },
     "execution_count": 16,
     "metadata": {},
     "output_type": "execute_result"
    },
    {
     "data": {
      "image/png": "[encoded data removed]",
      "text/plain": [
       "<Figure size 432x288 with 2 Axes>"
      ]
     },
     "metadata": {
      "needs_background": "light"
     },
     "output_type": "display_data"
    }
   ],
   "source": [
    "plt.imshow(TWO_LAPLACE.toarray())\n",
    "plt.colorbar()"
   ]
  },
  {
   "cell_type": "code",
   "execution_count": 17,
   "metadata": {},
   "outputs": [
    {
     "data": {
      "text/plain": [
       "(4225, 4225)"
      ]
     },
     "execution_count": 17,
     "metadata": {},
     "output_type": "execute_result"
    }
   ],
   "source": [
    "TWO_LAPLACE.shape"
   ]
  },
  {
   "cell_type": "code",
   "execution_count": 18,
   "metadata": {},
   "outputs": [],
   "source": [
    "pm = P_MATRIX"
   ]
  },
  {
   "cell_type": "code",
   "execution_count": 19,
   "metadata": {},
   "outputs": [
    {
     "data": {
      "text/plain": [
       "<matplotlib.colorbar.Colorbar at 0x7f708ef5cbb0>"
      ]
     },
     "execution_count": 19,
     "metadata": {},
     "output_type": "execute_result"
    },
    {
     "data": {
      "image/png": "[encoded data removed]",
      "text/plain": [
       "<Figure size 432x288 with 2 Axes>"
      ]
     },
     "metadata": {
      "needs_background": "light"
     },
     "output_type": "display_data"
    }
   ],
   "source": [
    "P_MATRIX.shape\n",
    "plt.imshow(TWO_LAPLACE.toarray())\n",
    "plt.colorbar()"
   ]
  },
  {
   "cell_type": "code",
   "execution_count": 20,
   "metadata": {},
   "outputs": [
    {
     "data": {
      "text/plain": [
       "<matplotlib.colorbar.Colorbar at 0x7f708ee884c0>"
      ]
     },
     "execution_count": 20,
     "metadata": {},
     "output_type": "execute_result"
    },
    {
     "data": {
      "image/png": "[encoded data removed]",
      "text/plain": [
       "<Figure size 432x288 with 2 Axes>"
      ]
     },
     "metadata": {
      "needs_background": "light"
     },
     "output_type": "display_data"
    }
   ],
   "source": [
    "plt.imshow(P_MATRIX.toarray())\n",
    "plt.colorbar()"
   ]
  },
  {
   "cell_type": "code",
   "execution_count": 21,
   "metadata": {},
   "outputs": [],
   "source": [
    "#Building u0\n",
    "U0 = np.sin(X*Y)\n",
    "u0 = U0.flatten()\n",
    "to_subtract = P_MATRIX.dot(u0)\n"
   ]
  },
  {
   "cell_type": "code",
   "execution_count": 22,
   "metadata": {},
   "outputs": [],
   "source": [
    "vecF = np.subtract(vecF, to_subtract)"
   ]
  },
  {
   "cell_type": "code",
   "execution_count": 23,
   "metadata": {},
   "outputs": [
    {
     "data": {
      "text/plain": [
       "(4225, 4225)"
      ]
     },
     "execution_count": 23,
     "metadata": {},
     "output_type": "execute_result"
    }
   ],
   "source": [
    "TWO_LAPLACE.shape"
   ]
  },
  {
   "cell_type": "code",
   "execution_count": null,
   "metadata": {},
   "outputs": [],
   "source": []
  },
  {
   "cell_type": "code",
   "execution_count": 24,
   "metadata": {},
   "outputs": [
    {
     "name": "stdout",
     "output_type": "stream",
     "text": [
      "[0.         0.         0.         ... 0.82417844 0.83292639 0.84147098]\n"
     ]
    }
   ],
   "source": [
    "print(vecF)"
   ]
  },
  {
   "cell_type": "code",
   "execution_count": 25,
   "metadata": {},
   "outputs": [
    {
     "name": "stdout",
     "output_type": "stream",
     "text": [
      "CPU times: user 9.86 ms, sys: 0 ns, total: 9.86 ms\n",
      "Wall time: 8.73 ms\n"
     ]
    }
   ],
   "source": [
    "%%time\n",
    "u = spsolve(TWO_LAPLACE, vecF.T)"
   ]
  },
  {
   "cell_type": "code",
   "execution_count": 26,
   "metadata": {},
   "outputs": [
    {
     "data": {
      "text/plain": [
       "<matplotlib.colorbar.Colorbar at 0x7f708cdb33d0>"
      ]
     },
     "execution_count": 26,
     "metadata": {},
     "output_type": "execute_result"
    },
    {
     "data": {
      "image/png": "[encoded data removed]",
      "text/plain": [
       "<Figure size 432x288 with 2 Axes>"
      ]
     },
     "metadata": {
      "needs_background": "light"
     },
     "output_type": "display_data"
    }
   ],
   "source": [
    "array_u = u.reshape((N+1,N+1))\n",
    "plt.imshow(array_u, origin='lower');\n",
    "plt.colorbar()"
   ]
  },
  {
   "cell_type": "code",
   "execution_count": 27,
   "metadata": {},
   "outputs": [],
   "source": [
    "u_ex = np.sin(X*Y)\n",
    "vec_u_ex = u_ex.flatten()"
   ]
  },
  {
   "cell_type": "code",
   "execution_count": 28,
   "metadata": {},
   "outputs": [
    {
     "name": "stdout",
     "output_type": "stream",
     "text": [
      "h**2: 0.00024\t error: 0.00000\n",
      "relative error: 0.0004\t [h**2]\n"
     ]
    }
   ],
   "source": [
    "error = np.sqrt(h**2 *np.sum((vec_u_ex-u)**2))\n",
    "print(\"h**2: {:.5f}\\t error: {:.5f}\".format(h**2, error))\n",
    "print('relative error: {:.4f}\\t [h**2]'.format(error/(h**2)))"
   ]
  },
  {
   "cell_type": "code",
   "execution_count": 29,
   "metadata": {},
   "outputs": [],
   "source": [
    "def decomp_lu(M: ssp.csc_matrix) -> ssp.csc_matrix:\n",
    "\t\"\"\"Creates the sparse lower matrix of the LU decomposition of M\n",
    "\n",
    "\tParameters\n",
    "\t----------\n",
    "\tM : ssp.csc_matrix\n",
    "\t    The matrix to LU decompose such that L@U = M\n",
    "\n",
    "\tReturns\n",
    "\t-------\n",
    "\tssp.csc_matrix\n",
    "\t    The sparse lower matrix L\n",
    "\t\"\"\"\n",
    "\t#In this code block all fully uppercase variables are sparse matrices\n",
    "\tshape_m = M.shape\n",
    "\tID = ssp.eye(shape_m[0])\n",
    "\tZEROES = ssp.csc_matrix(shape_m)\n",
    "\n",
    "\tSUM = ID.copy()\n",
    "\tfor k in range(0, shape_m[1]):\n",
    "\t\tAkk = M[k,k]\n",
    "\t\tVEC = M[:,k] / Akk\n",
    "\t\tVEC[0: k+1] = ZEROES[0:k+1, 0]\n",
    "\n",
    "\t\tEK = ZEROES[:,0].copy()\n",
    "\t\tEK[k] = 1\n",
    "\n",
    "\t\tADD = VEC * EK.T\n",
    "\t\tSUM += ADD\n",
    "\t\n",
    "\tL = SUM\n",
    "\tU = spsolve(SUM, M)\n",
    "\n",
    "\treturn L, U"
   ]
  },
  {
   "cell_type": "code",
   "execution_count": 30,
   "metadata": {},
   "outputs": [],
   "source": [
    "from tqdm import tqdm"
   ]
  },
  {
   "cell_type": "code",
   "execution_count": 31,
   "metadata": {},
   "outputs": [],
   "source": [
    "##Mocht je hier een error krijgen dan moet je waarschijnlijk even het volgende veranderen\n",
    "## tqdm(range(...)) -> range(...)\n",
    "\n",
    "\n",
    "def decomp_cholesky(M: ssp.csc_matrix) -> ssp.csc_matrix:\n",
    "\t\"\"\"Creates the sparse lower triangular matrix C that results from cholesky\n",
    "\tdecomposition.\n",
    "\n",
    "\tParameters\n",
    "\t----------\n",
    "\tM : ssp.csc_matrix\n",
    "\t    The matrix M such that cholesky decomposition yields C, scuh that \n",
    "\t    C@C.T == M\n",
    "\n",
    "\tReturns\n",
    "\t-------\n",
    "\tssp.csc_matrix\n",
    "\t    The sparse lower triangular matrix C\n",
    "\t\"\"\"\t\n",
    "\tshape_m = M.shape\n",
    "\tZEROES = ssp.lil_matrix(shape_m)\n",
    "\tC = ssp.lil_matrix(shape_m)\n",
    "\tTMP = M.copy().tolil()\n",
    "\n",
    "\tfor col in tqdm(range(0, shape_m[1])): #Hierzo\n",
    "\t\tC[col,col] = np.sqrt((TMP[col,col] - ( C[col,0:col].power(2) ).sum()))\n",
    "\t\tTMP[col,col] = C[col,col]\n",
    "\n",
    "\t\tPROD = TMP[col+1:,0:col]*TMP[col,0:col].T\n",
    "\n",
    "\t\tSUM = PROD.sum(axis=1)\n",
    "\n",
    "\t\tpref = 1/(C[col,col])\n",
    "\n",
    "\t\tC[col+1:,col] = pref*(TMP[col+1:,col] - SUM)\n",
    "\t\tTMP[col+1:,col] = C[col+1:, col]\n",
    "\n",
    "\t\tC[col,col+1:] = ZEROES[col,col+1:]\n",
    "\n",
    "\treturn C\n"
   ]
  },
  {
   "cell_type": "code",
   "execution_count": 32,
   "metadata": {},
   "outputs": [
    {
     "data": {
      "text/plain": [
       "<4225x4225 sparse matrix of type '<class 'numpy.float64'>'\n",
       "\twith 19849 stored elements in Compressed Sparse Column format>"
      ]
     },
     "execution_count": 32,
     "metadata": {},
     "output_type": "execute_result"
    }
   ],
   "source": [
    "TWO_LAPLACE.tocsc()"
   ]
  },
  {
   "cell_type": "code",
   "execution_count": 33,
   "metadata": {},
   "outputs": [
    {
     "data": {
      "text/plain": [
       "'\\nL, U = decomp_lu(TWO_LAPLACE)\\nD = ssp.diags(U.diagonal(k=0))\\n\\nplt.imshow(D.toarray())\\nplt.colorbar()\\n\\nsqrtD = D.sqrt()\\n\\nC = L@sqrtD\\n'"
      ]
     },
     "execution_count": 33,
     "metadata": {},
     "output_type": "execute_result"
    }
   ],
   "source": [
    "\"\"\"\n",
    "L, U = decomp_lu(TWO_LAPLACE)\n",
    "D = ssp.diags(U.diagonal(k=0))\n",
    "\n",
    "plt.imshow(D.toarray())\n",
    "plt.colorbar()\n",
    "\n",
    "sqrtD = D.sqrt()\n",
    "\n",
    "C = L@sqrtD\n",
    "\"\"\""
   ]
  },
  {
   "cell_type": "code",
   "execution_count": 34,
   "metadata": {},
   "outputs": [],
   "source": [
    "#Utest = D@L.T"
   ]
  },
  {
   "cell_type": "code",
   "execution_count": 35,
   "metadata": {},
   "outputs": [],
   "source": [
    "#np.alltrue(Utest.toarray() == U.toarray())"
   ]
  },
  {
   "cell_type": "code",
   "execution_count": 36,
   "metadata": {},
   "outputs": [],
   "source": [
    "#LU = L@U\n",
    "\n",
    "#np.alltrue(TWO_LAPLACE.toarray() == LU.toarray())"
   ]
  },
  {
   "cell_type": "code",
   "execution_count": 37,
   "metadata": {},
   "outputs": [],
   "source": [
    "#np.all(np.linalg.eigvals(TWO_LAPLACE.toarray())>0)"
   ]
  },
  {
   "cell_type": "code",
   "execution_count": 38,
   "metadata": {},
   "outputs": [
    {
     "name": "stdout",
     "output_type": "stream",
     "text": [
      "CPU times: user 2 µs, sys: 0 ns, total: 2 µs\n",
      "Wall time: 3.81 µs\n"
     ]
    }
   ],
   "source": [
    "%%time\n",
    "##Mocht je een error krijgen, lees dan de comment in de cell hierboven\n",
    "#C = decomp_cholesky(TWO_LAPLACE)"
   ]
  },
  {
   "cell_type": "code",
   "execution_count": 39,
   "metadata": {},
   "outputs": [
    {
     "name": "stdout",
     "output_type": "stream",
     "text": [
      "CPU times: user 23.4 ms, sys: 0 ns, total: 23.4 ms\n",
      "Wall time: 8.75 ms\n"
     ]
    }
   ],
   "source": [
    "%%time\n",
    "\n",
    "C_factor = cholesky(TWO_LAPLACE, beta=0, ordering_method='natural')\n"
   ]
  },
  {
   "cell_type": "code",
   "execution_count": 40,
   "metadata": {},
   "outputs": [],
   "source": [
    "C2 = C_factor.L()\n",
    "P = C_factor.P()"
   ]
  },
  {
   "cell_type": "code",
   "execution_count": 41,
   "metadata": {},
   "outputs": [
    {
     "name": "stdout",
     "output_type": "stream",
     "text": [
      "[   0    1    2 ... 4222 4223 4224]\n"
     ]
    }
   ],
   "source": [
    "print(P)"
   ]
  },
  {
   "cell_type": "code",
   "execution_count": 42,
   "metadata": {},
   "outputs": [
    {
     "data": {
      "text/plain": [
       "<matplotlib.image.AxesImage at 0x7f708cd52730>"
      ]
     },
     "execution_count": 42,
     "metadata": {},
     "output_type": "execute_result"
    },
    {
     "data": {
      "image/png": "[encoded data removed]",
      "text/plain": [
       "<Figure size 432x288 with 1 Axes>"
      ]
     },
     "metadata": {
      "needs_background": "light"
     },
     "output_type": "display_data"
    }
   ],
   "source": [
    "plt.imshow(C2.toarray())"
   ]
  },
  {
   "cell_type": "code",
   "execution_count": 43,
   "metadata": {},
   "outputs": [
    {
     "ename": "NameError",
     "evalue": "name 'time_ns' is not defined",
     "output_type": "error",
     "traceback": [
      "\u001b[0;31m---------------------------------------------------------------------------\u001b[0m",
      "\u001b[0;31mNameError\u001b[0m                                 Traceback (most recent call last)",
      "\u001b[0;32m/tmp/ipykernel_785/909702919.py\u001b[0m in \u001b[0;36m<module>\u001b[0;34m\u001b[0m\n\u001b[0;32m----> 1\u001b[0;31m \u001b[0mstartt\u001b[0m \u001b[0;34m=\u001b[0m \u001b[0mtime_ns\u001b[0m\u001b[0;34m(\u001b[0m\u001b[0;34m)\u001b[0m\u001b[0;34m\u001b[0m\u001b[0;34m\u001b[0m\u001b[0m\n\u001b[0m\u001b[1;32m      2\u001b[0m \u001b[0mb\u001b[0m \u001b[0;34m=\u001b[0m \u001b[0mspsolve\u001b[0m\u001b[0;34m(\u001b[0m\u001b[0mC2\u001b[0m\u001b[0;34m,\u001b[0m \u001b[0mvecF\u001b[0m\u001b[0;34m)\u001b[0m\u001b[0;34m\u001b[0m\u001b[0;34m\u001b[0m\u001b[0m\n\u001b[1;32m      3\u001b[0m \u001b[0mforwt\u001b[0m \u001b[0;34m=\u001b[0m \u001b[0mtime_ns\u001b[0m\u001b[0;34m(\u001b[0m\u001b[0;34m)\u001b[0m \u001b[0;34m-\u001b[0m \u001b[0mstartt\u001b[0m\u001b[0;34m\u001b[0m\u001b[0;34m\u001b[0m\u001b[0m\n\u001b[1;32m      4\u001b[0m \u001b[0msol\u001b[0m \u001b[0;34m=\u001b[0m \u001b[0mspsolve\u001b[0m\u001b[0;34m(\u001b[0m\u001b[0mC2\u001b[0m\u001b[0;34m.\u001b[0m\u001b[0mT\u001b[0m\u001b[0;34m,\u001b[0m \u001b[0mb\u001b[0m\u001b[0;34m)\u001b[0m\u001b[0;34m\u001b[0m\u001b[0;34m\u001b[0m\u001b[0m\n\u001b[1;32m      5\u001b[0m \u001b[0mbackt\u001b[0m \u001b[0;34m=\u001b[0m \u001b[0mtime_ns\u001b[0m\u001b[0;34m(\u001b[0m\u001b[0;34m)\u001b[0m \u001b[0;34m-\u001b[0m \u001b[0mstartt\u001b[0m \u001b[0;34m-\u001b[0m \u001b[0mforwt\u001b[0m\u001b[0;34m\u001b[0m\u001b[0;34m\u001b[0m\u001b[0m\n",
      "\u001b[0;31mNameError\u001b[0m: name 'time_ns' is not defined"
     ]
    }
   ],
   "source": [
    "startt = time_ns()\n",
    "b = spsolve(C2, vecF)\n",
    "forwt = time_ns() - startt\n",
    "sol = spsolve(C2.T, b)\n",
    "backt = time_ns() - startt - forwt\n",
    "statement = \"Forward step took: {:.2f} ms, Backward step took: {:.2f} ms\".format(forwt/1e6, backt/1e6)\n",
    "\n",
    "print(statement)"
   ]
  },
  {
   "cell_type": "code",
   "execution_count": null,
   "metadata": {},
   "outputs": [],
   "source": [
    "permut = reverse_cuthill_mckee(TWO_LAPLACE, symmetric_mode=True)\n",
    "print(permut)"
   ]
  },
  {
   "cell_type": "code",
   "execution_count": null,
   "metadata": {},
   "outputs": [],
   "source": [
    "REDUCED_BAND = TWO_LAPLACE[permut[:,np.newaxis], permut[np.newaxis,:]]"
   ]
  },
  {
   "cell_type": "code",
   "execution_count": null,
   "metadata": {},
   "outputs": [],
   "source": [
    "RED_BAND_FACT = cholesky(TWO_LAPLACE, beta=0, ordering_method='natural')\n",
    "C = RED_BAND_FACT.L()"
   ]
  },
  {
   "cell_type": "code",
   "execution_count": null,
   "metadata": {},
   "outputs": [],
   "source": [
    "startt = time_ns()\n",
    "b = spsolve(C, vecF)\n",
    "forwt = time_ns() - startt\n",
    "sol = spsolve(C.T, b)\n",
    "backt = time_ns() - startt - forwt\n",
    "statement = \"Forward step took: {:.2f} ms, Backward step took: {:.2f} ms\".format(forwt/1e6, backt/1e6)\n",
    "\n",
    "print(statement)"
   ]
  },
  {
   "cell_type": "code",
   "execution_count": null,
   "metadata": {},
   "outputs": [],
   "source": [
    "toplot = sol.reshape((N+1,N+1))\n",
    "plt.imshow(toplot)\n",
    "plt.colorbar()"
   ]
  },
  {
   "cell_type": "code",
   "execution_count": null,
   "metadata": {},
   "outputs": [],
   "source": [
    "plt.imshow(REDUCED_BAND.toarray())"
   ]
  },
  {
   "cell_type": "code",
   "execution_count": null,
   "metadata": {},
   "outputs": [],
   "source": [
    "#np.alltrue(C.toarray() == C2.toarray())"
   ]
  },
  {
   "cell_type": "markdown",
   "metadata": {},
   "source": [
    "plt.close()\n",
    "plt.imshow(C2.toarray())\n",
    "plt.colorbar()"
   ]
  },
  {
   "cell_type": "markdown",
   "metadata": {},
   "source": [
    "MAYBE = C2@C2.T\n",
    "plt.imshow(MAYBE.toarray())\n",
    "plt.colorbar()"
   ]
  },
  {
   "cell_type": "markdown",
   "metadata": {},
   "source": [
    "U_MAYBE = spsolve(MAYBE, vecF)\n",
    "\n",
    "u_maybe = (U_MAYBE).reshape((N+1,N+1))\n",
    "plt.imshow(u_maybe, origin='lower')\n",
    "plt.colorbar()"
   ]
  },
  {
   "cell_type": "code",
   "execution_count": null,
   "metadata": {},
   "outputs": [],
   "source": [
    "from time import time_ns"
   ]
  },
  {
   "cell_type": "code",
   "execution_count": null,
   "metadata": {},
   "outputs": [],
   "source": [
    "def sys_solve_chol(f: ssp.csc_matrix, L: ssp.csc_matrix, U: ssp.csc_matrix) -> ssp.csc_matrix:\n",
    "\tLOWER = L #Forward matrix\n",
    "\tUPPER = U #Backward\n",
    "\n",
    "\tstartt = time_ns()\n",
    "\tb = spsolve(LOWER, f)\n",
    "\tforwt = time_ns() - startt\n",
    "\tsol = spsolve(UPPER, b)\n",
    "\tbackt = time_ns() - startt - forwt\n",
    "\n",
    "\tstatement = \"Forward step took: {:.2f} ms, Backward step took: {:.2f} ms\".format(forwt/1e6, backt/1e6)\n",
    "\n",
    "\treturn sol, statement\n"
   ]
  },
  {
   "cell_type": "code",
   "execution_count": null,
   "metadata": {},
   "outputs": [],
   "source": [
    "%%time\n",
    "\n",
    "#u, state = sys_solve_chol(vecF, L, U)\n",
    "\n",
    "#print(state)"
   ]
  },
  {
   "cell_type": "code",
   "execution_count": null,
   "metadata": {},
   "outputs": [],
   "source": [
    "#nonzero counting\n",
    "\n",
    "nnzA = TWO_LAPLACE.count_nonzero()\n",
    "nnzA2 = REDUCED_BAND.count_nonzero()\n",
    "nnzC = C.count_nonzero()\n",
    "nnzC2 = C2.count_nonzero()\n",
    "\n",
    "fill_ratio = nnzC / nnzA\n",
    "fillratio2 = nnzC2 / nnzA2\n",
    "\n",
    "print(fill_ratio, fillratio2)\n"
   ]
  },
  {
   "cell_type": "code",
   "execution_count": null,
   "metadata": {},
   "outputs": [],
   "source": [
    "E = -1*ssp.tril(TWO_LAPLACE, k=-1)\n",
    "F = -1*ssp.triu(TWO_LAPLACE, k=1)\n",
    "D = ssp.diags(TWO_LAPLACE.diagonal())"
   ]
  },
  {
   "cell_type": "code",
   "execution_count": null,
   "metadata": {},
   "outputs": [],
   "source": [
    "plt.imshow(E.toarray())\n",
    "plt.colorbar()"
   ]
  },
  {
   "cell_type": "code",
   "execution_count": null,
   "metadata": {},
   "outputs": [],
   "source": [
    "plt.imshow(F.toarray())\n",
    "plt.colorbar()"
   ]
  },
  {
   "cell_type": "code",
   "execution_count": null,
   "metadata": {},
   "outputs": [],
   "source": [
    "plt.imshow(D.toarray())\n",
    "plt.colorbar()"
   ]
  },
  {
   "cell_type": "code",
   "execution_count": null,
   "metadata": {},
   "outputs": [],
   "source": [
    "omega = 1.5\n",
    "\n",
    "MINV = omega*(2-omega) * inv(D - omega* E) @ D @ inv(D - omega*F)\n",
    "\n",
    "shape = MINV.shape\n",
    "ID = ssp.csc_matrix(shape)"
   ]
  },
  {
   "cell_type": "code",
   "execution_count": null,
   "metadata": {},
   "outputs": [],
   "source": [
    "u0 = ssp.csr_matrix(np.zeros(shape[0]))\n",
    "r0 = ssp.csr_matrix(np.ones(shape[0]))\n",
    "f = ssp.csr_matrix(vecF)\n",
    "\n",
    "print(vec_u_ex.shape)\n",
    "print(u0.shape)\n",
    "\n",
    "epsilon = 1e-5\n"
   ]
  },
  {
   "cell_type": "code",
   "execution_count": null,
   "metadata": {},
   "outputs": [],
   "source": [
    "def get_norm(vector: ssp.csc_matrix) -> float:\n",
    "\tnorm = np.sqrt((vector.power(2)).sum())\n",
    "\treturn norm"
   ]
  },
  {
   "cell_type": "code",
   "execution_count": null,
   "metadata": {},
   "outputs": [],
   "source": [
    "\"\"\"norm_f = get_norm(f)\n",
    "norm_r = get_norm(r0)\n",
    "\n",
    "u = u0.T\n",
    "r = f.T\n",
    "\n",
    "\n",
    "i = 0\n",
    "for i in range(40000):\n",
    "\tu = u + MINV@r\n",
    "\tr = COMP@r\n",
    "\n",
    "\tnorm_r = get_norm(r)\n",
    "\n",
    "\tif norm_r / norm_f < epsilon:\n",
    "\t\tbreak\n",
    "\n",
    "print(norm_r/norm_f)\n",
    "print(i)\n",
    "\"\"\"\n",
    "\n",
    "COMP = (ID - TWO_LAPLACE@MINV)\n",
    "A = TWO_LAPLACE\n",
    "\n",
    "norm_f = get_norm(f)\n",
    "norm_r = get_norm(r0)\n",
    "\n",
    "u = u0.T\n",
    "r = f.T\n",
    "\n",
    "print(type(MINV))\n",
    "print(type(r))\n",
    "print(type(u))\n",
    "\n",
    "r_norms = np.asarray([norm_r])\n",
    "\n",
    "i = 0\n",
    "while not norm_r/norm_f < epsilon:\n",
    "\tu = u + MINV@r\n",
    "\tr = f.T - A@u\n",
    "\n",
    "\tnorm_r = get_norm(r)\n",
    "\tr_norms = np.append(r_norms, norm_r)\n",
    "\tif i % 10 == 0:\n",
    "\t\tprint(i, norm_r/norm_f)\n",
    "\ti += 1\n",
    "\n",
    "\n",
    "\n",
    "u_ssor = u"
   ]
  },
  {
   "cell_type": "code",
   "execution_count": null,
   "metadata": {},
   "outputs": [],
   "source": [
    "\n",
    "COMP = (ID - TWO_LAPLACE@MINV)\n",
    "A = TWO_LAPLACE\n",
    "\n",
    "norm_f = get_norm(f)\n",
    "norm_r = get_norm(r0)\n",
    "\n",
    "u = u0.T\n",
    "r = f.T\n",
    "f = f.T\n",
    "\n",
    "r_norms = np.asarray([norm_r])\n",
    "n = A.shape[0]\n",
    "\n",
    "j = 0\n",
    "while not norm_r/norm_f < epsilon:\n",
    "\tfor i in range(n):\n",
    "\t\tsigma = u[i]\n",
    "\t\tu[i] = (f[i] - A[i,0:i]@u[0:i] - A[i,i+1:n]@u[i+1:n])/A[i,i]\n",
    "\t\tu[i] = (1-omega)*sigma + omega*u[i]\n",
    "\t\n",
    "\tfor i in range(n-1,0,-1):\n",
    "\t\tsigma = u[i]\n",
    "\t\tu[i] = (f[i] - A[i,0:i]@u[0:i] - A[i,i+1:n]@u[i+1:n])/A[i,i]\n",
    "\t\tu[i] = (1-omega)*sigma + omega*u[i]\n",
    "\t\n",
    "\n",
    "\tr = f - A@u\n",
    "\n",
    "\tnorm_r = get_norm(r)\n",
    "\tr_norms = np.append(r_norms, norm_r)\n",
    "\tif j % 2 == 0:\n",
    "\t\tprint(\"iteration {:.2f}, norm {:.2e}\".format(j,norm_r))\n",
    "\tj += 1\n",
    "\t\n",
    "u_ssor2 = u\n"
   ]
  },
  {
   "cell_type": "markdown",
   "metadata": {},
   "source": [
    "u = u0.T\n",
    "f = ssp.csc_matrix(vecF).T\n",
    "A = TWO_LAPLACE\n",
    "norm_r = get_norm(r0)\n",
    "norm_f = get_norm(f)\n",
    "r = r0.T\n",
    "\n",
    "E = -1*ssp.tril(TWO_LAPLACE, k=-1)\n",
    "F = -1*ssp.triu(TWO_LAPLACE, k=1)\n",
    "D = ssp.diags(TWO_LAPLACE.diagonal())\n",
    "\n",
    "i = 0\n",
    "while not norm_r/norm_f < epsilon:\n",
    "\tsigma = u\n",
    "\tu = (f + E@u + F@u)\n",
    "\tdiag = ssp.csc_matrix(A.diagonal()).T\n",
    "\t\n",
    "\tfor idx in range(u.shape[0]):\n",
    "\t\tu[idx] = u[idx] / diag[idx]\n",
    "\n",
    "\tu = ssp.csc_matrix(u)\n",
    "\tu = (1-omega)*sigma + omega*u\n",
    "\tr = COMP@r\n",
    "\tnorm_r = get_norm(r)\n",
    "\ti += 1\n",
    "\tif i % 100 == 0:\n",
    "\t\tprint(norm_r)\n",
    "\tif i == 1000:\n",
    "\t\tbreak\n",
    "\n",
    "u_ssor3 = u\n",
    "\t"
   ]
  },
  {
   "cell_type": "code",
   "execution_count": null,
   "metadata": {},
   "outputs": [],
   "source": [
    "print(i)"
   ]
  },
  {
   "cell_type": "code",
   "execution_count": null,
   "metadata": {},
   "outputs": [],
   "source": [
    "\n",
    "len(r_norms)"
   ]
  },
  {
   "cell_type": "code",
   "execution_count": null,
   "metadata": {},
   "outputs": [],
   "source": [
    "plt.plot(np.arange(len(r_norms)), r_norms)\n",
    "plt.semilogy()\n",
    "plt.ylabel(r\"$\\frac{|r_m|_2}{|f^h|_2}$\")\n",
    "plt.xlabel(r\"iteration $m$\")\n",
    "plt.show()"
   ]
  },
  {
   "cell_type": "code",
   "execution_count": null,
   "metadata": {},
   "outputs": [],
   "source": [
    "\"\"\"\n",
    "norm_f = get_norm(f)\n",
    "norm_r = get_norm(r0)\n",
    "\n",
    "u = u0.T\n",
    "r = f.T\n",
    "\n",
    "COMP = (ID - TWO_LAPLACE@MINV)\n",
    "\n",
    "i = 0\n",
    "A = TWO_LAPLACE\n",
    "for iter in range(2000):\n",
    "\tuold = u\n",
    "\tfor i in range(shape[0]):\n",
    "\t\tsub1 = A[i,:i]@u[:i]\n",
    "\t\tprint(sub1.shape)\n",
    "\t\tsub2 = A[i,i+1:]@u[i+1:]/A[i,i]\n",
    "\t\tprint(sub2.shape)\n",
    "\t\tu[i] = f[i] - sub1[0,0] - sub2[0,0]\n",
    "\tu = (1-omega)*uold + omega*u\n",
    "\n",
    "\tif norm_r / norm_f < epsilon:\n",
    "\t\tbreak\n",
    "\"\"\""
   ]
  },
  {
   "cell_type": "code",
   "execution_count": null,
   "metadata": {},
   "outputs": [],
   "source": [
    "plt.imshow(vec_u_ex.reshape((N+1,N+1)))\n",
    "plt.colorbar()"
   ]
  },
  {
   "cell_type": "code",
   "execution_count": null,
   "metadata": {},
   "outputs": [],
   "source": [
    "plt.imshow((u_ssor.toarray()).reshape((N+1,N+1)))\n",
    "plt.colorbar()"
   ]
  },
  {
   "cell_type": "code",
   "execution_count": null,
   "metadata": {},
   "outputs": [],
   "source": [
    "#Preconditioned Conjugate-Gradient\n",
    "u = u0.T\n",
    "r = f.T\n",
    "\n",
    "norm_f = get_norm(f)\n",
    "norm_r = get_norm(r0)\n",
    "\n",
    "r_prev = 0\n",
    "z_prev = 0\n",
    "p = 0\n",
    "\n",
    "i = 0\n",
    "while not norm_r/norm_f < epsilon:\n",
    "\tr_pprev = r_prev\n",
    "\tr_prev = r\n",
    "\tz_pprev = z_prev\n",
    "\tp_prev = p\n",
    "\t\n",
    "\tz_prev = MINV@r_prev\n",
    "\n",
    "\tif i == 0:\n",
    "\t\tp = z_prev\n",
    "\telse:\n",
    "\t\tbeta = (r_prev.T @ z_prev)/(r_pprev.T @ z_pprev)\n",
    "\t\tp = z_prev + beta[0,0]*p_prev\n",
    "\t\n",
    "\talpha = (r_prev.T @ z_prev)/(p.T @ TWO_LAPLACE @ p)\n",
    "\tu += alpha[0,0]*p\n",
    "\tr += -alpha[0,0]*(TWO_LAPLACE@p)\n",
    "\ti += 1\n",
    "\tnorm_r = get_norm(r)\n",
    "\n",
    "print(i)\n",
    "u_preccg = u"
   ]
  },
  {
   "cell_type": "code",
   "execution_count": null,
   "metadata": {},
   "outputs": [],
   "source": [
    "plt.imshow((u_preccg.toarray()).reshape((N+1,N+1)))\n",
    "plt.colorbar()"
   ]
  },
  {
   "cell_type": "code",
   "execution_count": null,
   "metadata": {},
   "outputs": [],
   "source": [
    "u_preccg = u_preccg.toarray().reshape((N+1,N+1))\n",
    "u_ssor = u_ssor.toarray().reshape((N+1,N+1))"
   ]
  },
  {
   "cell_type": "code",
   "execution_count": null,
   "metadata": {},
   "outputs": [],
   "source": [
    "plt.imshow(u_ssor/u_preccg)\n",
    "plt.colorbar()"
   ]
  },
  {
   "cell_type": "code",
   "execution_count": null,
   "metadata": {},
   "outputs": [],
   "source": []
  }
 ],
 "metadata": {
  "interpreter": {
   "hash": "2ea1d2d7f4049888098689028c10f21718f9dd1594b80595dd2baeb3be943db3"
  },
  "kernelspec": {
   "display_name": "Python 3.9.5 64-bit",
   "language": "python",
   "name": "python3"
  },
  "language_info": {
   "codemirror_mode": {
    "name": "ipython",
    "version": 3
   },
   "file_extension": ".py",
   "mimetype": "text/x-python",
   "name": "python",
   "nbconvert_exporter": "python",
   "pygments_lexer": "ipython3",
   "version": "3.8.10"
  },
  "orig_nbformat": 4
 },
 "nbformat": 4,
 "nbformat_minor": 2
}
